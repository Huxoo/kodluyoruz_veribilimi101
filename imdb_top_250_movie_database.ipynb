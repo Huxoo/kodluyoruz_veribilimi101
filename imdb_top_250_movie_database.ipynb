{
 "cells": [
  {
   "cell_type": "code",
   "execution_count": 2,
   "id": "9c51b197",
   "metadata": {},
   "outputs": [],
   "source": [
    "import numpy as np\n",
    "import pandas as pd\n"
   ]
  },
  {
   "cell_type": "markdown",
   "id": "1ee6d9f7",
   "metadata": {},
   "source": [
    "## Imdb top 250 csv uzantılı dosyamızı projemize entegre edelim."
   ]
  },
  {
   "cell_type": "code",
   "execution_count": 3,
   "id": "09cacedb",
   "metadata": {
    "scrolled": true
   },
   "outputs": [
    {
     "data": {
      "text/html": [
       "<div>\n",
       "<style scoped>\n",
       "    .dataframe tbody tr th:only-of-type {\n",
       "        vertical-align: middle;\n",
       "    }\n",
       "\n",
       "    .dataframe tbody tr th {\n",
       "        vertical-align: top;\n",
       "    }\n",
       "\n",
       "    .dataframe thead th {\n",
       "        text-align: right;\n",
       "    }\n",
       "</style>\n",
       "<table border=\"1\" class=\"dataframe\">\n",
       "  <thead>\n",
       "    <tr style=\"text-align: right;\">\n",
       "      <th></th>\n",
       "      <th>Ranking</th>\n",
       "      <th>IMDByear</th>\n",
       "      <th>IMDBlink</th>\n",
       "      <th>Title</th>\n",
       "      <th>Date</th>\n",
       "      <th>RunTime</th>\n",
       "      <th>Genre</th>\n",
       "      <th>Rating</th>\n",
       "      <th>Score</th>\n",
       "      <th>Votes</th>\n",
       "      <th>Gross</th>\n",
       "      <th>Director</th>\n",
       "      <th>Cast1</th>\n",
       "      <th>Cast2</th>\n",
       "      <th>Cast3</th>\n",
       "      <th>Cast4</th>\n",
       "    </tr>\n",
       "  </thead>\n",
       "  <tbody>\n",
       "    <tr>\n",
       "      <th>0</th>\n",
       "      <td>1</td>\n",
       "      <td>1996</td>\n",
       "      <td>/title/tt0076759/</td>\n",
       "      <td>Star Wars: Episode IV - A New Hope</td>\n",
       "      <td>1977</td>\n",
       "      <td>121</td>\n",
       "      <td>Action, Adventure, Fantasy</td>\n",
       "      <td>8.6</td>\n",
       "      <td>90.0</td>\n",
       "      <td>1299781</td>\n",
       "      <td>322.74</td>\n",
       "      <td>George Lucas</td>\n",
       "      <td>Mark Hamill</td>\n",
       "      <td>Harrison Ford</td>\n",
       "      <td>Carrie Fisher</td>\n",
       "      <td>Alec Guinness</td>\n",
       "    </tr>\n",
       "    <tr>\n",
       "      <th>1</th>\n",
       "      <td>2</td>\n",
       "      <td>1996</td>\n",
       "      <td>/title/tt0111161/</td>\n",
       "      <td>The Shawshank Redemption</td>\n",
       "      <td>1994</td>\n",
       "      <td>142</td>\n",
       "      <td>Drama</td>\n",
       "      <td>9.3</td>\n",
       "      <td>80.0</td>\n",
       "      <td>2529673</td>\n",
       "      <td>28.34</td>\n",
       "      <td>Frank Darabont</td>\n",
       "      <td>Tim Robbins</td>\n",
       "      <td>Morgan Freeman</td>\n",
       "      <td>Bob Gunton</td>\n",
       "      <td>William Sadler</td>\n",
       "    </tr>\n",
       "    <tr>\n",
       "      <th>2</th>\n",
       "      <td>3</td>\n",
       "      <td>1996</td>\n",
       "      <td>/title/tt0117951/</td>\n",
       "      <td>Trainspotting</td>\n",
       "      <td>1996</td>\n",
       "      <td>93</td>\n",
       "      <td>Drama</td>\n",
       "      <td>8.1</td>\n",
       "      <td>83.0</td>\n",
       "      <td>665213</td>\n",
       "      <td>16.50</td>\n",
       "      <td>Danny Boyle</td>\n",
       "      <td>Ewan McGregor</td>\n",
       "      <td>Ewen Bremner</td>\n",
       "      <td>Jonny Lee Miller</td>\n",
       "      <td>Kevin McKidd</td>\n",
       "    </tr>\n",
       "    <tr>\n",
       "      <th>3</th>\n",
       "      <td>4</td>\n",
       "      <td>1996</td>\n",
       "      <td>/title/tt0114814/</td>\n",
       "      <td>The Usual Suspects</td>\n",
       "      <td>1995</td>\n",
       "      <td>106</td>\n",
       "      <td>Crime, Drama, Mystery</td>\n",
       "      <td>8.5</td>\n",
       "      <td>77.0</td>\n",
       "      <td>1045626</td>\n",
       "      <td>23.34</td>\n",
       "      <td>Bryan Singer</td>\n",
       "      <td>Kevin Spacey</td>\n",
       "      <td>Gabriel Byrne</td>\n",
       "      <td>Chazz Palminteri</td>\n",
       "      <td>Stephen Baldwin</td>\n",
       "    </tr>\n",
       "    <tr>\n",
       "      <th>4</th>\n",
       "      <td>5</td>\n",
       "      <td>1996</td>\n",
       "      <td>/title/tt0108598/</td>\n",
       "      <td>The Wrong Trousers</td>\n",
       "      <td>1993</td>\n",
       "      <td>30</td>\n",
       "      <td>Animation, Short, Comedy</td>\n",
       "      <td>8.3</td>\n",
       "      <td>NaN</td>\n",
       "      <td>53316</td>\n",
       "      <td>NaN</td>\n",
       "      <td>Nick Park</td>\n",
       "      <td>Peter Sallis</td>\n",
       "      <td>Peter Hawkins</td>\n",
       "      <td>NaN</td>\n",
       "      <td>NaN</td>\n",
       "    </tr>\n",
       "  </tbody>\n",
       "</table>\n",
       "</div>"
      ],
      "text/plain": [
       "   Ranking  IMDByear           IMDBlink                               Title  \\\n",
       "0        1      1996  /title/tt0076759/  Star Wars: Episode IV - A New Hope   \n",
       "1        2      1996  /title/tt0111161/            The Shawshank Redemption   \n",
       "2        3      1996  /title/tt0117951/                       Trainspotting   \n",
       "3        4      1996  /title/tt0114814/                  The Usual Suspects   \n",
       "4        5      1996  /title/tt0108598/                  The Wrong Trousers   \n",
       "\n",
       "   Date  RunTime                       Genre  Rating  Score    Votes   Gross  \\\n",
       "0  1977      121  Action, Adventure, Fantasy     8.6   90.0  1299781  322.74   \n",
       "1  1994      142                       Drama     9.3   80.0  2529673   28.34   \n",
       "2  1996       93                       Drama     8.1   83.0   665213   16.50   \n",
       "3  1995      106       Crime, Drama, Mystery     8.5   77.0  1045626   23.34   \n",
       "4  1993       30    Animation, Short, Comedy     8.3    NaN    53316     NaN   \n",
       "\n",
       "         Director           Cast1             Cast2               Cast3  \\\n",
       "0    George Lucas     Mark Hamill     Harrison Ford       Carrie Fisher   \n",
       "1  Frank Darabont     Tim Robbins    Morgan Freeman          Bob Gunton   \n",
       "2     Danny Boyle   Ewan McGregor      Ewen Bremner    Jonny Lee Miller   \n",
       "3    Bryan Singer    Kevin Spacey     Gabriel Byrne    Chazz Palminteri   \n",
       "4       Nick Park    Peter Sallis     Peter Hawkins                 NaN   \n",
       "\n",
       "               Cast4  \n",
       "0      Alec Guinness  \n",
       "1     William Sadler  \n",
       "2       Kevin McKidd  \n",
       "3    Stephen Baldwin  \n",
       "4                NaN  "
      ]
     },
     "execution_count": 3,
     "metadata": {},
     "output_type": "execute_result"
    }
   ],
   "source": [
    "movie = pd.read_csv('imdbTop250.csv')\n",
    "df = movie.copy()\n",
    "df2 = movie.copy()\n",
    "df.head()"
   ]
  },
  {
   "cell_type": "markdown",
   "id": "24205f3f",
   "metadata": {},
   "source": [
    "### Veri setimiz üzerinde betimsel istatistik değerlerini ve veri seti bilgilerini gözlemleyelim."
   ]
  },
  {
   "cell_type": "code",
   "execution_count": 4,
   "id": "a363aa44",
   "metadata": {},
   "outputs": [
    {
     "name": "stdout",
     "output_type": "stream",
     "text": [
      " Veri setinin boyut sayısı: 2\n",
      " Veri setinin boyut bilgisi: (6500, 16)\n",
      " Veri setindeki toplam eleman sayısı: 104000\n",
      "\n"
     ]
    }
   ],
   "source": [
    "print(f\" Veri setinin boyut sayısı: {df.ndim}\\n\",\n",
    "     f\"Veri setinin boyut bilgisi: {df.shape}\\n\",\n",
    "     f\"Veri setindeki toplam eleman sayısı: {df.size}\\n\")"
   ]
  },
  {
   "cell_type": "code",
   "execution_count": 5,
   "id": "5ad0a684",
   "metadata": {},
   "outputs": [
    {
     "name": "stdout",
     "output_type": "stream",
     "text": [
      "<class 'pandas.core.frame.DataFrame'>\n",
      "RangeIndex: 6500 entries, 0 to 6499\n",
      "Data columns (total 16 columns):\n",
      " #   Column    Non-Null Count  Dtype  \n",
      "---  ------    --------------  -----  \n",
      " 0   Ranking   6500 non-null   int64  \n",
      " 1   IMDByear  6500 non-null   int64  \n",
      " 2   IMDBlink  6500 non-null   object \n",
      " 3   Title     6500 non-null   object \n",
      " 4   Date      6500 non-null   int64  \n",
      " 5   RunTime   6500 non-null   int64  \n",
      " 6   Genre     6500 non-null   object \n",
      " 7   Rating    6500 non-null   float64\n",
      " 8   Score     5674 non-null   float64\n",
      " 9   Votes     6500 non-null   int64  \n",
      " 10  Gross     5691 non-null   float64\n",
      " 11  Director  6500 non-null   object \n",
      " 12  Cast1     6500 non-null   object \n",
      " 13  Cast2     6500 non-null   object \n",
      " 14  Cast3     6492 non-null   object \n",
      " 15  Cast4     6492 non-null   object \n",
      "dtypes: float64(3), int64(5), object(8)\n",
      "memory usage: 812.6+ KB\n"
     ]
    }
   ],
   "source": [
    "df.info()"
   ]
  },
  {
   "cell_type": "code",
   "execution_count": 6,
   "id": "4e0461b6",
   "metadata": {},
   "outputs": [
    {
     "data": {
      "text/html": [
       "<div>\n",
       "<style scoped>\n",
       "    .dataframe tbody tr th:only-of-type {\n",
       "        vertical-align: middle;\n",
       "    }\n",
       "\n",
       "    .dataframe tbody tr th {\n",
       "        vertical-align: top;\n",
       "    }\n",
       "\n",
       "    .dataframe thead th {\n",
       "        text-align: right;\n",
       "    }\n",
       "</style>\n",
       "<table border=\"1\" class=\"dataframe\">\n",
       "  <thead>\n",
       "    <tr style=\"text-align: right;\">\n",
       "      <th></th>\n",
       "      <th>count</th>\n",
       "      <th>mean</th>\n",
       "      <th>std</th>\n",
       "      <th>min</th>\n",
       "      <th>25%</th>\n",
       "      <th>50%</th>\n",
       "      <th>75%</th>\n",
       "      <th>max</th>\n",
       "    </tr>\n",
       "  </thead>\n",
       "  <tbody>\n",
       "    <tr>\n",
       "      <th>Ranking</th>\n",
       "      <td>6500.0</td>\n",
       "      <td>125.500000</td>\n",
       "      <td>72.173758</td>\n",
       "      <td>1.00</td>\n",
       "      <td>63.00</td>\n",
       "      <td>125.50</td>\n",
       "      <td>188.000</td>\n",
       "      <td>250.00</td>\n",
       "    </tr>\n",
       "    <tr>\n",
       "      <th>IMDByear</th>\n",
       "      <td>6500.0</td>\n",
       "      <td>2008.500000</td>\n",
       "      <td>7.500577</td>\n",
       "      <td>1996.00</td>\n",
       "      <td>2002.00</td>\n",
       "      <td>2008.50</td>\n",
       "      <td>2015.000</td>\n",
       "      <td>2021.00</td>\n",
       "    </tr>\n",
       "    <tr>\n",
       "      <th>Date</th>\n",
       "      <td>6500.0</td>\n",
       "      <td>1978.649385</td>\n",
       "      <td>23.625371</td>\n",
       "      <td>1920.00</td>\n",
       "      <td>1959.00</td>\n",
       "      <td>1984.00</td>\n",
       "      <td>1998.000</td>\n",
       "      <td>2021.00</td>\n",
       "    </tr>\n",
       "    <tr>\n",
       "      <th>RunTime</th>\n",
       "      <td>6500.0</td>\n",
       "      <td>125.603385</td>\n",
       "      <td>31.138483</td>\n",
       "      <td>16.00</td>\n",
       "      <td>104.00</td>\n",
       "      <td>121.00</td>\n",
       "      <td>138.000</td>\n",
       "      <td>321.00</td>\n",
       "    </tr>\n",
       "    <tr>\n",
       "      <th>Rating</th>\n",
       "      <td>6500.0</td>\n",
       "      <td>8.171431</td>\n",
       "      <td>0.327116</td>\n",
       "      <td>5.50</td>\n",
       "      <td>8.00</td>\n",
       "      <td>8.10</td>\n",
       "      <td>8.300</td>\n",
       "      <td>9.30</td>\n",
       "    </tr>\n",
       "    <tr>\n",
       "      <th>Score</th>\n",
       "      <td>5674.0</td>\n",
       "      <td>84.247268</td>\n",
       "      <td>10.053112</td>\n",
       "      <td>61.00</td>\n",
       "      <td>77.00</td>\n",
       "      <td>85.00</td>\n",
       "      <td>92.000</td>\n",
       "      <td>100.00</td>\n",
       "    </tr>\n",
       "    <tr>\n",
       "      <th>Votes</th>\n",
       "      <td>6500.0</td>\n",
       "      <td>484350.124000</td>\n",
       "      <td>474385.635068</td>\n",
       "      <td>9194.00</td>\n",
       "      <td>121463.00</td>\n",
       "      <td>305777.00</td>\n",
       "      <td>734121.000</td>\n",
       "      <td>2529673.00</td>\n",
       "    </tr>\n",
       "    <tr>\n",
       "      <th>Gross</th>\n",
       "      <td>5691.0</td>\n",
       "      <td>70.709617</td>\n",
       "      <td>103.075729</td>\n",
       "      <td>0.01</td>\n",
       "      <td>5.32</td>\n",
       "      <td>26.24</td>\n",
       "      <td>92.435</td>\n",
       "      <td>936.66</td>\n",
       "    </tr>\n",
       "  </tbody>\n",
       "</table>\n",
       "</div>"
      ],
      "text/plain": [
       "           count           mean            std      min        25%        50%  \\\n",
       "Ranking   6500.0     125.500000      72.173758     1.00      63.00     125.50   \n",
       "IMDByear  6500.0    2008.500000       7.500577  1996.00    2002.00    2008.50   \n",
       "Date      6500.0    1978.649385      23.625371  1920.00    1959.00    1984.00   \n",
       "RunTime   6500.0     125.603385      31.138483    16.00     104.00     121.00   \n",
       "Rating    6500.0       8.171431       0.327116     5.50       8.00       8.10   \n",
       "Score     5674.0      84.247268      10.053112    61.00      77.00      85.00   \n",
       "Votes     6500.0  484350.124000  474385.635068  9194.00  121463.00  305777.00   \n",
       "Gross     5691.0      70.709617     103.075729     0.01       5.32      26.24   \n",
       "\n",
       "                 75%         max  \n",
       "Ranking      188.000      250.00  \n",
       "IMDByear    2015.000     2021.00  \n",
       "Date        1998.000     2021.00  \n",
       "RunTime      138.000      321.00  \n",
       "Rating         8.300        9.30  \n",
       "Score         92.000      100.00  \n",
       "Votes     734121.000  2529673.00  \n",
       "Gross         92.435      936.66  "
      ]
     },
     "execution_count": 6,
     "metadata": {},
     "output_type": "execute_result"
    }
   ],
   "source": [
    "df.describe().T"
   ]
  },
  {
   "cell_type": "markdown",
   "id": "31cd0c1c",
   "metadata": {},
   "source": [
    "### Gözlemlediğimiz kadarıyla eksik değerler söz konusu. Örneğin 'float' sayısal veri tipine sahip 'Gross' ve 'Score' değişkenlerimiz de eksik değerler mevcut. Kategorik değişkenlerimizde de eksik değerler var fakat bunu şimdilik önemsemeyeceğiz çünkü 'regresyon' modelleri üzerinden ilerleyeceğiz.."
   ]
  },
  {
   "cell_type": "code",
   "execution_count": 7,
   "id": "0e816fa8",
   "metadata": {},
   "outputs": [
    {
     "data": {
      "text/plain": [
       "Ranking       0\n",
       "IMDByear      0\n",
       "IMDBlink      0\n",
       "Title         0\n",
       "Date          0\n",
       "RunTime       0\n",
       "Genre         0\n",
       "Rating        0\n",
       "Score       826\n",
       "Votes         0\n",
       "Gross       809\n",
       "Director      0\n",
       "Cast1         0\n",
       "Cast2         0\n",
       "Cast3         8\n",
       "Cast4         8\n",
       "dtype: int64"
      ]
     },
     "execution_count": 7,
     "metadata": {},
     "output_type": "execute_result"
    }
   ],
   "source": [
    "df.isnull().sum()"
   ]
  },
  {
   "cell_type": "code",
   "execution_count": 8,
   "id": "039b7496",
   "metadata": {},
   "outputs": [
    {
     "data": {
      "text/plain": [
       "0    90.0\n",
       "1    80.0\n",
       "2    83.0\n",
       "3    77.0\n",
       "4     NaN\n",
       "Name: Score, dtype: float64"
      ]
     },
     "execution_count": 8,
     "metadata": {},
     "output_type": "execute_result"
    }
   ],
   "source": [
    "df['Score'].head()"
   ]
  },
  {
   "cell_type": "code",
   "execution_count": 9,
   "id": "ea162418",
   "metadata": {},
   "outputs": [
    {
     "data": {
      "text/plain": [
       "0    322.74\n",
       "1     28.34\n",
       "2     16.50\n",
       "3     23.34\n",
       "4       NaN\n",
       "Name: Gross, dtype: float64"
      ]
     },
     "execution_count": 9,
     "metadata": {},
     "output_type": "execute_result"
    }
   ],
   "source": [
    "df['Gross'].head()"
   ]
  },
  {
   "cell_type": "markdown",
   "id": "5187d718",
   "metadata": {},
   "source": [
    "### 'Score' değişkenimiz filmlerin 100 üzerinden aldığı puanı gösteriyor, 'gross' değişkenimiz ise filmlerin brüt kazandığı para miktarını içeriyor. Şimdi bu bilgilere göre 'NaN' değerleri nasıl doldurmalıyız yada atmalıyız üzerine düşünebiliriz. Baktığımız zaman 6500 veriden score değişkeninde 826, gross değişkeninde 809 adet veri eksik. Dolayısıyla baya bir eksik değer söz konusu olduğu için bunları 'drop' ile silmek, doldurmaya nazaran daha tehlikeli."
   ]
  },
  {
   "cell_type": "markdown",
   "id": "6c09cc0a",
   "metadata": {},
   "source": [
    "### Şimdi dolduracağız fakat bu değerleri direkt 0'a atayarak mı yapmalıyız yoksa ortalama veya medyan vs. gibi değerler ile mi doldurmalıyız bu soru çıkıyor karşımıza.. Tekrardan çok fazla değerin eksik olduğunu gözlemlediğimiz için ortalamaya atamanın daha doğru olacağını düşünüyorum.."
   ]
  },
  {
   "cell_type": "code",
   "execution_count": 10,
   "id": "01e6447b",
   "metadata": {},
   "outputs": [],
   "source": [
    "from pandas.api import types\n",
    "def fix_mising(df, col, name):\n",
    "    if types.is_numeric_dtype(col):\n",
    "        if pd.isnull(col).sum:\n",
    "            df[name + \"_na\"] = pd.isnull(col)\n",
    "        df[name] = col.fillna(col.mean())"
   ]
  },
  {
   "cell_type": "code",
   "execution_count": 11,
   "id": "fbcebfeb",
   "metadata": {},
   "outputs": [],
   "source": [
    "fix_mising(df, df['Score'], 'Score')"
   ]
  },
  {
   "cell_type": "code",
   "execution_count": 12,
   "id": "f4543eda",
   "metadata": {},
   "outputs": [],
   "source": [
    "fix_mising(df, df['Gross'], 'Gross')"
   ]
  },
  {
   "cell_type": "markdown",
   "id": "9246a129",
   "metadata": {},
   "source": [
    "### Burada şunu söyledik, tamam değerleri ortalama ile doldur ama bu 'NaN' değerlerin diğer verilerden farkı olsun. Biz veri setine baktığımız zaman 'bu önceden NaN değermiş' şeklinde yorumlayabilelim. Ona göre davranabilelim. Dolayısıyla bu duruma bir önlem olarak NaN değerler için bir belirleyicilik oluşturuyoruz ve boolean olarak kontrol ettiğimizde farkına varalım. Şimdi eksik değerleri tekrar kontrol edelim.."
   ]
  },
  {
   "cell_type": "code",
   "execution_count": 13,
   "id": "02a9ee33",
   "metadata": {},
   "outputs": [
    {
     "data": {
      "text/plain": [
       "0"
      ]
     },
     "execution_count": 13,
     "metadata": {},
     "output_type": "execute_result"
    }
   ],
   "source": [
    "df['Score'].isnull().sum()"
   ]
  },
  {
   "cell_type": "code",
   "execution_count": 14,
   "id": "cb2072d6",
   "metadata": {},
   "outputs": [
    {
     "data": {
      "text/plain": [
       "0"
      ]
     },
     "execution_count": 14,
     "metadata": {},
     "output_type": "execute_result"
    }
   ],
   "source": [
    "df['Gross'].isnull().sum()"
   ]
  },
  {
   "cell_type": "code",
   "execution_count": 15,
   "id": "f495b0ae",
   "metadata": {},
   "outputs": [
    {
     "data": {
      "text/plain": [
       "Ranking     0\n",
       "IMDByear    0\n",
       "IMDBlink    0\n",
       "Title       0\n",
       "Date        0\n",
       "RunTime     0\n",
       "Genre       0\n",
       "Rating      0\n",
       "Score       0\n",
       "Votes       0\n",
       "Gross       0\n",
       "Director    0\n",
       "Cast1       0\n",
       "Cast2       0\n",
       "Cast3       8\n",
       "Cast4       8\n",
       "Score_na    0\n",
       "Gross_na    0\n",
       "dtype: int64"
      ]
     },
     "execution_count": 15,
     "metadata": {},
     "output_type": "execute_result"
    }
   ],
   "source": [
    "df.isnull().sum()"
   ]
  },
  {
   "cell_type": "markdown",
   "id": "35100d46",
   "metadata": {},
   "source": [
    "### Şimdi de verilerimizde aykırı gözlem var mı onları saptamaya çalışalım. "
   ]
  },
  {
   "cell_type": "code",
   "execution_count": 16,
   "id": "a355bf19",
   "metadata": {},
   "outputs": [
    {
     "data": {
      "text/plain": [
       "1      26\n",
       "172    26\n",
       "159    26\n",
       "160    26\n",
       "161    26\n",
       "       ..\n",
       "89     26\n",
       "90     26\n",
       "91     26\n",
       "92     26\n",
       "250    26\n",
       "Name: Ranking, Length: 250, dtype: int64"
      ]
     },
     "execution_count": 16,
     "metadata": {},
     "output_type": "execute_result"
    }
   ],
   "source": [
    "df['Ranking'].value_counts()"
   ]
  },
  {
   "cell_type": "code",
   "execution_count": 17,
   "id": "607ffd9e",
   "metadata": {},
   "outputs": [
    {
     "data": {
      "text/plain": [
       "1996    250\n",
       "1997    250\n",
       "2020    250\n",
       "2019    250\n",
       "2018    250\n",
       "2017    250\n",
       "2016    250\n",
       "2015    250\n",
       "2014    250\n",
       "2013    250\n",
       "2012    250\n",
       "2011    250\n",
       "2010    250\n",
       "2009    250\n",
       "2008    250\n",
       "2007    250\n",
       "2006    250\n",
       "2005    250\n",
       "2004    250\n",
       "2003    250\n",
       "2002    250\n",
       "2001    250\n",
       "2000    250\n",
       "1999    250\n",
       "1998    250\n",
       "2021    250\n",
       "Name: IMDByear, dtype: int64"
      ]
     },
     "execution_count": 17,
     "metadata": {},
     "output_type": "execute_result"
    }
   ],
   "source": [
    "df['IMDByear'].value_counts()"
   ]
  },
  {
   "cell_type": "code",
   "execution_count": 18,
   "id": "22457846",
   "metadata": {},
   "outputs": [
    {
     "data": {
      "text/plain": [
       "8.1    1344\n",
       "8.0     899\n",
       "8.2     843\n",
       "8.3     786\n",
       "8.5     433\n",
       "7.9     413\n",
       "8.4     404\n",
       "8.6     255\n",
       "7.8     253\n",
       "7.7     149\n",
       "8.7     123\n",
       "8.8     108\n",
       "7.6      84\n",
       "7.5      74\n",
       "8.9      71\n",
       "9.0      66\n",
       "7.4      40\n",
       "7.3      39\n",
       "9.3      27\n",
       "9.2      26\n",
       "7.2      22\n",
       "7.1      12\n",
       "6.8       7\n",
       "7.0       6\n",
       "6.7       6\n",
       "6.5       3\n",
       "6.9       3\n",
       "6.6       1\n",
       "6.1       1\n",
       "5.5       1\n",
       "6.4       1\n",
       "Name: Rating, dtype: int64"
      ]
     },
     "execution_count": 18,
     "metadata": {},
     "output_type": "execute_result"
    }
   ],
   "source": [
    "df['Rating'].value_counts()"
   ]
  },
  {
   "cell_type": "code",
   "execution_count": 19,
   "id": "8c28c01f",
   "metadata": {},
   "outputs": [
    {
     "data": {
      "text/plain": [
       "84.247268     826\n",
       "90.000000     299\n",
       "84.000000     272\n",
       "86.000000     250\n",
       "94.000000     246\n",
       "85.000000     243\n",
       "91.000000     221\n",
       "88.000000     214\n",
       "77.000000     214\n",
       "100.000000    204\n",
       "98.000000     202\n",
       "80.000000     197\n",
       "97.000000     184\n",
       "96.000000     184\n",
       "83.000000     184\n",
       "92.000000     182\n",
       "79.000000     170\n",
       "75.000000     168\n",
       "89.000000     165\n",
       "87.000000     157\n",
       "66.000000     137\n",
       "82.000000     122\n",
       "95.000000     121\n",
       "76.000000     105\n",
       "73.000000     100\n",
       "78.000000      98\n",
       "74.000000      96\n",
       "72.000000      96\n",
       "93.000000      96\n",
       "65.000000      93\n",
       "70.000000      90\n",
       "99.000000      89\n",
       "69.000000      72\n",
       "68.000000      71\n",
       "62.000000      58\n",
       "71.000000      57\n",
       "67.000000      56\n",
       "64.000000      54\n",
       "81.000000      45\n",
       "63.000000      32\n",
       "61.000000      30\n",
       "Name: Score, dtype: int64"
      ]
     },
     "execution_count": 19,
     "metadata": {},
     "output_type": "execute_result"
    }
   ],
   "source": [
    "df['Score'].value_counts()"
   ]
  },
  {
   "cell_type": "code",
   "execution_count": 20,
   "id": "66ddc751",
   "metadata": {},
   "outputs": [
    {
     "data": {
      "text/plain": [
       "70.709617    809\n",
       "4.360000      89\n",
       "0.060000      53\n",
       "0.010000      53\n",
       "5.320000      52\n",
       "            ... \n",
       "43.980000      1\n",
       "34.580000      1\n",
       "55.690000      1\n",
       "14.880000      1\n",
       "0.080000       1\n",
       "Name: Gross, Length: 586, dtype: int64"
      ]
     },
     "execution_count": 20,
     "metadata": {},
     "output_type": "execute_result"
    }
   ],
   "source": [
    "df['Gross'].value_counts()"
   ]
  },
  {
   "cell_type": "markdown",
   "id": "17405824",
   "metadata": {},
   "source": [
    "### Şimdi belli başlı veriler üzerinde gerçekleştirdiğimiz bu 'aykırı gözlem var mı?' sorgusuna göz ucuyla baktığımız zaman bizim NaN değerler için 'ortalama' ile doldur işlemimize uğrayan 'score' ve 'gross' değerleri dışında diğer verilerimizde aykırı gözlem saptayamadık. Fakat bu aykırı gözlem işlemine bir de 'sklearn' kütüphanesini kullanarak yöntem arayışına girelim."
   ]
  },
  {
   "cell_type": "code",
   "execution_count": 21,
   "id": "5a083dd2",
   "metadata": {},
   "outputs": [
    {
     "name": "stdout",
     "output_type": "stream",
     "text": [
      "[-1.13298537 -1.10867442 -4.19925832 -1.25574384 -8.55412878 -0.98701035\n",
      " -1.44491809 -1.11559974 -0.97720149 -0.98739674]\n"
     ]
    }
   ],
   "source": [
    "from sklearn.neighbors import LocalOutlierFactor\n",
    "df2 = df2.select_dtypes(include=['float64', 'int64'])\n",
    "df2 = df2.dropna()\n",
    "clf = LocalOutlierFactor(n_neighbors = 20, contamination = 0.1)\n",
    "clf.fit_predict(df2)\n",
    "df2_scores = clf.negative_outlier_factor_\n",
    "print(df2_scores[0:10])"
   ]
  },
  {
   "cell_type": "markdown",
   "id": "533618cc",
   "metadata": {},
   "source": [
    "### Local Outlier Factor, gözlemleri bulundukları konumda yoğunluk tabanlı skorlayarak buna göre aykırı değer olabilecek değerleri tanımlayabilmemize olanak tanıyor. Yani bir noktanın 'local' yoğunluğu bu noktanın komşuları ile karşılaştırılıyor. Eğer bu nokta komşularının yoğunluğundan anlamlı şekilde düşükse bu nokta komşularından daha seyrek bir bölgede bulunuyordur. Dolayısıyla burada bir komşuluk yapısı söz konusu yorumunu yapabiliriz. Bir değerin çevresi yoğun değilse demek ki bu değer aykırı değerdir şeklinde değerlendiriliyor."
   ]
  },
  {
   "cell_type": "code",
   "execution_count": 22,
   "id": "3b13f757",
   "metadata": {},
   "outputs": [
    {
     "data": {
      "text/plain": [
       "array([-8.55412878, -4.19925832, -1.44491809, -1.25574384, -1.13298537,\n",
       "       -1.11559974, -1.10867442, -0.98739674, -0.98701035, -0.97720149])"
      ]
     },
     "execution_count": 22,
     "metadata": {},
     "output_type": "execute_result"
    }
   ],
   "source": [
    "np.sort(df2_scores[0:10])"
   ]
  },
  {
   "cell_type": "markdown",
   "id": "c375ef32",
   "metadata": {},
   "source": [
    "### Numpy'nin 'sort' fonksiyonunu kullanarak sıralama sağladık ve daha iyi gözlem olanağı oluştu. Şimdi burada diğer oranlara nazaran '-8'den '-4'e büyük bir düşüş var. Aykırı gözlemi en basiti ile bu şekilde saptayabiliyoruz. Burada -8 değeri aykırı değerdir."
   ]
  },
  {
   "cell_type": "code",
   "execution_count": 23,
   "id": "f7197f99",
   "metadata": {},
   "outputs": [
    {
     "data": {
      "text/plain": [
       "array([-3512.61269119, -3512.61269112, -3512.61269112, -3512.61269111,\n",
       "       -3512.61269106, -3511.35617389, -3505.48231515, -3505.48231481,\n",
       "       -3505.48231472, -3499.06871651])"
      ]
     },
     "execution_count": 23,
     "metadata": {},
     "output_type": "execute_result"
    }
   ],
   "source": [
    "np.sort(df2_scores)[0:10]"
   ]
  },
  {
   "cell_type": "markdown",
   "id": "7d834ad3",
   "metadata": {},
   "source": [
    "### Slice yapısını dışarıdan gerçekleştirdiğimiz de daha büyük gözlemler üzerinden aykırı gözlemleri saptayabiliriz. Mesela burada baktığımızda '-3511'den '-3505'e düşüş göze çarpıyor."
   ]
  },
  {
   "cell_type": "code",
   "execution_count": 24,
   "id": "647c7100",
   "metadata": {},
   "outputs": [
    {
     "data": {
      "text/html": [
       "<div>\n",
       "<style scoped>\n",
       "    .dataframe tbody tr th:only-of-type {\n",
       "        vertical-align: middle;\n",
       "    }\n",
       "\n",
       "    .dataframe tbody tr th {\n",
       "        vertical-align: top;\n",
       "    }\n",
       "\n",
       "    .dataframe thead th {\n",
       "        text-align: right;\n",
       "    }\n",
       "</style>\n",
       "<table border=\"1\" class=\"dataframe\">\n",
       "  <thead>\n",
       "    <tr style=\"text-align: right;\">\n",
       "      <th></th>\n",
       "      <th>Ranking</th>\n",
       "      <th>IMDByear</th>\n",
       "      <th>Date</th>\n",
       "      <th>RunTime</th>\n",
       "      <th>Rating</th>\n",
       "      <th>Score</th>\n",
       "      <th>Votes</th>\n",
       "      <th>Gross</th>\n",
       "    </tr>\n",
       "  </thead>\n",
       "  <tbody>\n",
       "    <tr>\n",
       "      <th>3505</th>\n",
       "      <td>6</td>\n",
       "      <td>2010</td>\n",
       "      <td>2010</td>\n",
       "      <td>148</td>\n",
       "      <td>8.8</td>\n",
       "      <td>74.0</td>\n",
       "      <td>2223040</td>\n",
       "      <td>292.58</td>\n",
       "    </tr>\n",
       "    <tr>\n",
       "      <th>5013</th>\n",
       "      <td>14</td>\n",
       "      <td>2016</td>\n",
       "      <td>2010</td>\n",
       "      <td>148</td>\n",
       "      <td>8.8</td>\n",
       "      <td>74.0</td>\n",
       "      <td>2223040</td>\n",
       "      <td>292.58</td>\n",
       "    </tr>\n",
       "    <tr>\n",
       "      <th>5263</th>\n",
       "      <td>14</td>\n",
       "      <td>2017</td>\n",
       "      <td>2010</td>\n",
       "      <td>148</td>\n",
       "      <td>8.8</td>\n",
       "      <td>74.0</td>\n",
       "      <td>2223040</td>\n",
       "      <td>292.58</td>\n",
       "    </tr>\n",
       "    <tr>\n",
       "      <th>5513</th>\n",
       "      <td>14</td>\n",
       "      <td>2018</td>\n",
       "      <td>2010</td>\n",
       "      <td>148</td>\n",
       "      <td>8.8</td>\n",
       "      <td>74.0</td>\n",
       "      <td>2223040</td>\n",
       "      <td>292.58</td>\n",
       "    </tr>\n",
       "    <tr>\n",
       "      <th>5762</th>\n",
       "      <td>13</td>\n",
       "      <td>2019</td>\n",
       "      <td>2010</td>\n",
       "      <td>148</td>\n",
       "      <td>8.8</td>\n",
       "      <td>74.0</td>\n",
       "      <td>2223040</td>\n",
       "      <td>292.58</td>\n",
       "    </tr>\n",
       "    <tr>\n",
       "      <th>6012</th>\n",
       "      <td>13</td>\n",
       "      <td>2020</td>\n",
       "      <td>2010</td>\n",
       "      <td>148</td>\n",
       "      <td>8.8</td>\n",
       "      <td>74.0</td>\n",
       "      <td>2223040</td>\n",
       "      <td>292.58</td>\n",
       "    </tr>\n",
       "    <tr>\n",
       "      <th>6262</th>\n",
       "      <td>13</td>\n",
       "      <td>2021</td>\n",
       "      <td>2010</td>\n",
       "      <td>148</td>\n",
       "      <td>8.8</td>\n",
       "      <td>74.0</td>\n",
       "      <td>2223040</td>\n",
       "      <td>292.58</td>\n",
       "    </tr>\n",
       "  </tbody>\n",
       "</table>\n",
       "</div>"
      ],
      "text/plain": [
       "      Ranking  IMDByear  Date  RunTime  Rating  Score    Votes   Gross\n",
       "3505        6      2010  2010      148     8.8   74.0  2223040  292.58\n",
       "5013       14      2016  2010      148     8.8   74.0  2223040  292.58\n",
       "5263       14      2017  2010      148     8.8   74.0  2223040  292.58\n",
       "5513       14      2018  2010      148     8.8   74.0  2223040  292.58\n",
       "5762       13      2019  2010      148     8.8   74.0  2223040  292.58\n",
       "6012       13      2020  2010      148     8.8   74.0  2223040  292.58\n",
       "6262       13      2021  2010      148     8.8   74.0  2223040  292.58"
      ]
     },
     "execution_count": 24,
     "metadata": {},
     "output_type": "execute_result"
    }
   ],
   "source": [
    "esik_deger = np.sort(df2_scores)[7]\n",
    "aykiri_deger = df2_scores > esik_deger\n",
    "new_df = df2[df2_scores > esik_deger]\n",
    "df2[df2_scores < esik_deger]"
   ]
  },
  {
   "cell_type": "markdown",
   "id": "907b63bb",
   "metadata": {},
   "source": [
    "### Yukarıdaki parametrelerden baz alarak kendimiz bir tane veriyi 'eşik değer' olarak belirledik. Bunu indeksteki 7'nci değer olarak seçtim. Ardından koşul sağlayarak bu 7'nci indeksteki değerden büyük verileri 'aykırı' olarak saptadım (Yukarıda gözlem yaptığımız sırada büyük düşüş yaşayan değeri aldım.). Ardından veri tabanını güncelleyerek sadece eşiği geçebilen değerleri alıp diğer değerleri ortadan kaldırdım. Sonuç olarak aykırı değerleri de ekrana bastırdım.."
   ]
  },
  {
   "cell_type": "code",
   "execution_count": 25,
   "id": "2f8378c6",
   "metadata": {},
   "outputs": [
    {
     "name": "stdout",
     "output_type": "stream",
     "text": [
      "<class 'pandas.core.frame.DataFrame'>\n",
      "RangeIndex: 6500 entries, 0 to 6499\n",
      "Data columns (total 18 columns):\n",
      " #   Column    Non-Null Count  Dtype  \n",
      "---  ------    --------------  -----  \n",
      " 0   Ranking   6500 non-null   int64  \n",
      " 1   IMDByear  6500 non-null   int64  \n",
      " 2   IMDBlink  6500 non-null   object \n",
      " 3   Title     6500 non-null   object \n",
      " 4   Date      6500 non-null   int64  \n",
      " 5   RunTime   6500 non-null   int64  \n",
      " 6   Genre     6500 non-null   object \n",
      " 7   Rating    6500 non-null   float64\n",
      " 8   Score     6500 non-null   float64\n",
      " 9   Votes     6500 non-null   int64  \n",
      " 10  Gross     6500 non-null   float64\n",
      " 11  Director  6500 non-null   object \n",
      " 12  Cast1     6500 non-null   object \n",
      " 13  Cast2     6500 non-null   object \n",
      " 14  Cast3     6492 non-null   object \n",
      " 15  Cast4     6492 non-null   object \n",
      " 16  Score_na  6500 non-null   bool   \n",
      " 17  Gross_na  6500 non-null   bool   \n",
      "dtypes: bool(2), float64(3), int64(5), object(8)\n",
      "memory usage: 825.3+ KB\n"
     ]
    }
   ],
   "source": [
    "df.info()"
   ]
  },
  {
   "cell_type": "code",
   "execution_count": 26,
   "id": "5bc346df",
   "metadata": {},
   "outputs": [],
   "source": [
    "df = df.select_dtypes(include=['float64', 'int64'])"
   ]
  },
  {
   "cell_type": "code",
   "execution_count": 27,
   "id": "4afc7aac",
   "metadata": {},
   "outputs": [
    {
     "data": {
      "image/png": "[encoded data removed]",
      "text/plain": [
       "<Figure size 1440x1440 with 72 Axes>"
      ]
     },
     "metadata": {
      "needs_background": "light"
     },
     "output_type": "display_data"
    }
   ],
   "source": [
    "import seaborn as sns\n",
    "import matplotlib.pyplot as plt\n",
    "\n",
    "sns.pairplot(df, kind='reg')\n",
    "plt.show()"
   ]
  },
  {
   "cell_type": "markdown",
   "id": "f8abbbb2",
   "metadata": {},
   "source": [
    "### Burada sadece sayısal verilerden oluşan veri setimiz üzerinden 'pairplot' grafiklendirme yapısını oluşturduk.. Grafiklere baktığımızda 'Score' değerleri ile 'Gross' değerleri arasında ilişki olduğunu gözlemledim. Buradaki parametre grafiklerdeki yanlılık oranını gözlemlememiz ile alakalı... Şimdi bunlar üzerine modeller kuralım."
   ]
  },
  {
   "cell_type": "markdown",
   "id": "430f7175",
   "metadata": {},
   "source": [
    "sns.jointplot(x='Score', y='Gross', data=df, kind='reg');"
   ]
  },
  {
   "cell_type": "code",
   "execution_count": 29,
   "id": "a9791bda",
   "metadata": {},
   "outputs": [
    {
     "data": {
      "text/html": [
       "<table class=\"simpletable\">\n",
       "<caption>OLS Regression Results</caption>\n",
       "<tr>\n",
       "  <th>Dep. Variable:</th>          <td>Gross</td>      <th>  R-squared:         </th> <td>   0.014</td> \n",
       "</tr>\n",
       "<tr>\n",
       "  <th>Model:</th>                   <td>OLS</td>       <th>  Adj. R-squared:    </th> <td>   0.014</td> \n",
       "</tr>\n",
       "<tr>\n",
       "  <th>Method:</th>             <td>Least Squares</td>  <th>  F-statistic:       </th> <td>   90.28</td> \n",
       "</tr>\n",
       "<tr>\n",
       "  <th>Date:</th>             <td>Wed, 19 Oct 2022</td> <th>  Prob (F-statistic):</th> <td>2.84e-21</td> \n",
       "</tr>\n",
       "<tr>\n",
       "  <th>Time:</th>                 <td>07:24:34</td>     <th>  Log-Likelihood:    </th> <td> -38876.</td> \n",
       "</tr>\n",
       "<tr>\n",
       "  <th>No. Observations:</th>      <td>  6500</td>      <th>  AIC:               </th> <td>7.776e+04</td>\n",
       "</tr>\n",
       "<tr>\n",
       "  <th>Df Residuals:</th>          <td>  6498</td>      <th>  BIC:               </th> <td>7.777e+04</td>\n",
       "</tr>\n",
       "<tr>\n",
       "  <th>Df Model:</th>              <td>     1</td>      <th>                     </th>     <td> </td>    \n",
       "</tr>\n",
       "<tr>\n",
       "  <th>Covariance Type:</th>      <td>nonrobust</td>    <th>                     </th>     <td> </td>    \n",
       "</tr>\n",
       "</table>\n",
       "<table class=\"simpletable\">\n",
       "<tr>\n",
       "    <td></td>       <th>coef</th>     <th>std err</th>      <th>t</th>      <th>P>|t|</th>  <th>[0.025</th>    <th>0.975]</th>  \n",
       "</tr>\n",
       "<tr>\n",
       "  <th>const</th> <td>  171.9786</td> <td>   10.724</td> <td>   16.037</td> <td> 0.000</td> <td>  150.956</td> <td>  193.001</td>\n",
       "</tr>\n",
       "<tr>\n",
       "  <th>Score</th> <td>   -1.2020</td> <td>    0.127</td> <td>   -9.502</td> <td> 0.000</td> <td>   -1.450</td> <td>   -0.954</td>\n",
       "</tr>\n",
       "</table>\n",
       "<table class=\"simpletable\">\n",
       "<tr>\n",
       "  <th>Omnibus:</th>       <td>3705.200</td> <th>  Durbin-Watson:     </th> <td>   1.894</td> \n",
       "</tr>\n",
       "<tr>\n",
       "  <th>Prob(Omnibus):</th>  <td> 0.000</td>  <th>  Jarque-Bera (JB):  </th> <td>33845.180</td>\n",
       "</tr>\n",
       "<tr>\n",
       "  <th>Skew:</th>           <td> 2.624</td>  <th>  Prob(JB):          </th> <td>    0.00</td> \n",
       "</tr>\n",
       "<tr>\n",
       "  <th>Kurtosis:</th>       <td>12.871</td>  <th>  Cond. No.          </th> <td>    765.</td> \n",
       "</tr>\n",
       "</table><br/><br/>Notes:<br/>[1] Standard Errors assume that the covariance matrix of the errors is correctly specified."
      ],
      "text/plain": [
       "<class 'statsmodels.iolib.summary.Summary'>\n",
       "\"\"\"\n",
       "                            OLS Regression Results                            \n",
       "==============================================================================\n",
       "Dep. Variable:                  Gross   R-squared:                       0.014\n",
       "Model:                            OLS   Adj. R-squared:                  0.014\n",
       "Method:                 Least Squares   F-statistic:                     90.28\n",
       "Date:                Wed, 19 Oct 2022   Prob (F-statistic):           2.84e-21\n",
       "Time:                        07:24:34   Log-Likelihood:                -38876.\n",
       "No. Observations:                6500   AIC:                         7.776e+04\n",
       "Df Residuals:                    6498   BIC:                         7.777e+04\n",
       "Df Model:                           1                                         \n",
       "Covariance Type:            nonrobust                                         \n",
       "==============================================================================\n",
       "                 coef    std err          t      P>|t|      [0.025      0.975]\n",
       "------------------------------------------------------------------------------\n",
       "const        171.9786     10.724     16.037      0.000     150.956     193.001\n",
       "Score         -1.2020      0.127     -9.502      0.000      -1.450      -0.954\n",
       "==============================================================================\n",
       "Omnibus:                     3705.200   Durbin-Watson:                   1.894\n",
       "Prob(Omnibus):                  0.000   Jarque-Bera (JB):            33845.180\n",
       "Skew:                           2.624   Prob(JB):                         0.00\n",
       "Kurtosis:                      12.871   Cond. No.                         765.\n",
       "==============================================================================\n",
       "\n",
       "Notes:\n",
       "[1] Standard Errors assume that the covariance matrix of the errors is correctly specified.\n",
       "\"\"\""
      ]
     },
     "execution_count": 29,
     "metadata": {},
     "output_type": "execute_result"
    }
   ],
   "source": [
    "import statsmodels.api as sm\n",
    "X = df[[\"Score\"]]\n",
    "X = sm.add_constant(X)\n",
    "y = df['Gross']\n",
    "#Şimdi Modeli kuralım\n",
    "lm = sm.OLS(y,X)\n",
    "model = lm.fit()\n",
    "model.summary()"
   ]
  },
  {
   "cell_type": "markdown",
   "id": "a8bb901f",
   "metadata": {},
   "source": [
    "### Burada OLS Regresyon çıktısı sonucu 'score' ve 'gross' değişkenlerine ait bir takım özellikler mevcut. Dikkat edeceğimz yer 'R-squared' değeri ve aşağısındakiler. R-squared, bağımsız değişkenin, bağımlı değişkendeki, değişkenliğini açıklama başarısıdır. Bizim bağımsız değişkenimiz olan 'score' değişkeni bağımlı değişkenimiz olan 'gross'un yaklaşık olarak %14'ünü açıklayabiliyormuş. 'Adj. R-squared' değeri ise 'R-squared' değerinin törpülenmiş, düzenlenmiş halidir. Daha çok değişkenli modellerde 'R-squared' değeri artmaya başlar. Bu da açıklanabilirlik durumunu azaltır. Dolayısıyla bu durum için 'Adj. R-squared' değeri daha doğru sonuçlar verecektir bizim için. 'F-statistic' ise modelin anlamlılığının anlaşılması için F istatistiğinin p-value değeridir."
   ]
  },
  {
   "cell_type": "code",
   "execution_count": 30,
   "id": "6876203c",
   "metadata": {},
   "outputs": [
    {
     "data": {
      "text/plain": [
       "const    171.978573\n",
       "Score     -1.202044\n",
       "dtype: float64"
      ]
     },
     "execution_count": 30,
     "metadata": {},
     "output_type": "execute_result"
    }
   ],
   "source": [
    "model.params"
   ]
  },
  {
   "cell_type": "code",
   "execution_count": 31,
   "id": "85878814",
   "metadata": {},
   "outputs": [
    {
     "data": {
      "text/html": [
       "<table class=\"simpletable\">\n",
       "<tr>\n",
       "    <td></td>       <th>coef</th>     <th>std err</th>      <th>t</th>      <th>P>|t|</th>  <th>[0.025</th>    <th>0.975]</th>  \n",
       "</tr>\n",
       "<tr>\n",
       "  <th>const</th> <td>  171.9786</td> <td>   10.724</td> <td>   16.037</td> <td> 0.000</td> <td>  150.956</td> <td>  193.001</td>\n",
       "</tr>\n",
       "<tr>\n",
       "  <th>Score</th> <td>   -1.2020</td> <td>    0.127</td> <td>   -9.502</td> <td> 0.000</td> <td>   -1.450</td> <td>   -0.954</td>\n",
       "</tr>\n",
       "</table>"
      ],
      "text/plain": [
       "<class 'statsmodels.iolib.table.SimpleTable'>"
      ]
     },
     "execution_count": 31,
     "metadata": {},
     "output_type": "execute_result"
    }
   ],
   "source": [
    "model.summary().tables[1]"
   ]
  },
  {
   "cell_type": "code",
   "execution_count": 33,
   "id": "d7a7f1f2",
   "metadata": {},
   "outputs": [
    {
     "data": {
      "text/html": [
       "<table class=\"simpletable\">\n",
       "<tr>\n",
       "  <th>Omnibus:</th>       <td>3705.200</td> <th>  Durbin-Watson:     </th> <td>   1.894</td> \n",
       "</tr>\n",
       "<tr>\n",
       "  <th>Prob(Omnibus):</th>  <td> 0.000</td>  <th>  Jarque-Bera (JB):  </th> <td>33845.180</td>\n",
       "</tr>\n",
       "<tr>\n",
       "  <th>Skew:</th>           <td> 2.624</td>  <th>  Prob(JB):          </th> <td>    0.00</td> \n",
       "</tr>\n",
       "<tr>\n",
       "  <th>Kurtosis:</th>       <td>12.871</td>  <th>  Cond. No.          </th> <td>    765.</td> \n",
       "</tr>\n",
       "</table>"
      ],
      "text/plain": [
       "<class 'statsmodels.iolib.table.SimpleTable'>"
      ]
     },
     "execution_count": 33,
     "metadata": {},
     "output_type": "execute_result"
    }
   ],
   "source": [
    "model.summary().tables[2] #Bu şekilde parça parça da bu değerlere ulaşabiliyoruz."
   ]
  },
  {
   "cell_type": "code",
   "execution_count": 35,
   "id": "2e187b26",
   "metadata": {},
   "outputs": [
    {
     "data": {
      "text/plain": [
       "0    63.794578\n",
       "1    75.815022\n",
       "2    72.208889\n",
       "3    79.421155\n",
       "4    70.709617\n",
       "dtype: float64"
      ]
     },
     "execution_count": 35,
     "metadata": {},
     "output_type": "execute_result"
    }
   ],
   "source": [
    "model.fittedvalues[0:5] #Nodelin tahmin ettiği değerler..."
   ]
  },
  {
   "cell_type": "code",
   "execution_count": 37,
   "id": "85a22880",
   "metadata": {},
   "outputs": [
    {
     "data": {
      "text/plain": [
       "0    322.740000\n",
       "1     28.340000\n",
       "2     16.500000\n",
       "3     23.340000\n",
       "4     70.709617\n",
       "Name: Gross, dtype: float64"
      ]
     },
     "execution_count": 37,
     "metadata": {},
     "output_type": "execute_result"
    }
   ],
   "source": [
    "y[0:5] #Bunlarda gerçek değerler. Aradaki farkı gözlemleyebiliriz."
   ]
  },
  {
   "cell_type": "code",
   "execution_count": 39,
   "id": "bd3c62c6",
   "metadata": {},
   "outputs": [
    {
     "name": "stdout",
     "output_type": "stream",
     "text": [
      "Gross= 171.98 +Score*-1.20\n"
     ]
    }
   ],
   "source": [
    "print(\"Gross= \" + str(\"%.2f\" % model.params[0]) + \" +Score\" + \"*\" + str(\"%.2f\" % model.params[1])) #Modelin matematiksel formülü"
   ]
  },
  {
   "cell_type": "code",
   "execution_count": 50,
   "id": "54835d1d",
   "metadata": {},
   "outputs": [
    {
     "name": "stderr",
     "output_type": "stream",
     "text": [
      "C:\\Users\\husey\\anaconda3\\lib\\site-packages\\seaborn\\_decorators.py:36: FutureWarning: Pass the following variables as keyword args: x, y. From version 0.12, the only valid positional argument will be `data`, and passing other arguments without an explicit keyword will result in an error or misinterpretation.\n",
      "  warnings.warn(\n"
     ]
    },
    {
     "data": {
      "image/png": "[encoded data removed]",
      "text/plain": [
       "<Figure size 432x288 with 1 Axes>"
      ]
     },
     "metadata": {
      "needs_background": "light"
     },
     "output_type": "display_data"
    }
   ],
   "source": [
    "reg = sns.regplot(df[\"Gross\"], df[\"Score\"], x_ci = None, scatter_kws = {'color': 'r', 's': 9})\n",
    "reg.set_title(\"Model Denklemi: Gross= 171.98 +Score*-1.20\")\n",
    "reg.set_ylabel(\"Score Sayısı\")\n",
    "reg.set_xlabel(\"Filmin Gross -brüt- kazanımı\")\n",
    "plt.xlim(-10, 310)\n",
    "plt.ylim(bottom = 0)\n",
    "plt.show()"
   ]
  },
  {
   "cell_type": "code",
   "execution_count": 84,
   "id": "1c5c196f",
   "metadata": {},
   "outputs": [
    {
     "data": {
      "text/plain": [
       "9173.166079148572"
      ]
     },
     "execution_count": 84,
     "metadata": {},
     "output_type": "execute_result"
    }
   ],
   "source": [
    "from sklearn.metrics import mean_squared_error, r2_score\n",
    "import statsmodels.formula.api as smf\n",
    "\n",
    "lm = smf.ols(\"Gross ~ Score\", df)\n",
    "model = lm.fit()\n",
    "mse = mean_squared_error(y, model.fittedvalues)\n",
    "mse"
   ]
  },
  {
   "cell_type": "markdown",
   "id": "8fdb3dbd",
   "metadata": {},
   "source": [
    "### Evet bu çıktı \"hata kareler ortalamamızı\" gösteriyor. Bu, gerçek değerler ile tahmin edilen değerler arasındaki farkların karelerinin toplamının oranlanması ve bölünmesidir. Yani birim başına bizim yapacağımız ortalama hata. Bunun karekökünü aldığımız da 'RMSE' değerine ulaşıyoruz.."
   ]
  },
  {
   "cell_type": "code",
   "execution_count": 85,
   "id": "dd0a1cae",
   "metadata": {},
   "outputs": [
    {
     "data": {
      "text/plain": [
       "95.77664683600366"
      ]
     },
     "execution_count": 85,
     "metadata": {},
     "output_type": "execute_result"
    }
   ],
   "source": [
    "rmse = np.sqrt(mse)\n",
    "rmse"
   ]
  },
  {
   "cell_type": "markdown",
   "id": "a802d106",
   "metadata": {},
   "source": [
    "### Şimdi de gerçek değerler ile tahmin edilen değerler arasında bir karşılaştırma tablosu oluşturalım."
   ]
  },
  {
   "cell_type": "code",
   "execution_count": 86,
   "id": "baa49101",
   "metadata": {},
   "outputs": [
    {
     "data": {
      "text/html": [
       "<div>\n",
       "<style scoped>\n",
       "    .dataframe tbody tr th:only-of-type {\n",
       "        vertical-align: middle;\n",
       "    }\n",
       "\n",
       "    .dataframe tbody tr th {\n",
       "        vertical-align: top;\n",
       "    }\n",
       "\n",
       "    .dataframe thead th {\n",
       "        text-align: right;\n",
       "    }\n",
       "</style>\n",
       "<table border=\"1\" class=\"dataframe\">\n",
       "  <thead>\n",
       "    <tr style=\"text-align: right;\">\n",
       "      <th></th>\n",
       "      <th>gercek_y</th>\n",
       "      <th>tahmin_y</th>\n",
       "      <th>Hata</th>\n",
       "    </tr>\n",
       "  </thead>\n",
       "  <tbody>\n",
       "    <tr>\n",
       "      <th>0</th>\n",
       "      <td>322.740000</td>\n",
       "      <td>63.794578</td>\n",
       "      <td>2.589454e+02</td>\n",
       "    </tr>\n",
       "    <tr>\n",
       "      <th>1</th>\n",
       "      <td>28.340000</td>\n",
       "      <td>75.815022</td>\n",
       "      <td>-4.747502e+01</td>\n",
       "    </tr>\n",
       "    <tr>\n",
       "      <th>2</th>\n",
       "      <td>16.500000</td>\n",
       "      <td>72.208889</td>\n",
       "      <td>-5.570889e+01</td>\n",
       "    </tr>\n",
       "    <tr>\n",
       "      <th>3</th>\n",
       "      <td>23.340000</td>\n",
       "      <td>79.421155</td>\n",
       "      <td>-5.608116e+01</td>\n",
       "    </tr>\n",
       "    <tr>\n",
       "      <th>4</th>\n",
       "      <td>70.709617</td>\n",
       "      <td>70.709617</td>\n",
       "      <td>-2.415845e-13</td>\n",
       "    </tr>\n",
       "    <tr>\n",
       "      <th>5</th>\n",
       "      <td>70.709617</td>\n",
       "      <td>70.709617</td>\n",
       "      <td>-2.415845e-13</td>\n",
       "    </tr>\n",
       "    <tr>\n",
       "      <th>6</th>\n",
       "      <td>92.000000</td>\n",
       "      <td>86.633421</td>\n",
       "      <td>5.366579e+00</td>\n",
       "    </tr>\n",
       "    <tr>\n",
       "      <th>7</th>\n",
       "      <td>1.020000</td>\n",
       "      <td>51.774134</td>\n",
       "      <td>-5.075413e+01</td>\n",
       "    </tr>\n",
       "    <tr>\n",
       "      <th>8</th>\n",
       "      <td>32.870000</td>\n",
       "      <td>71.006844</td>\n",
       "      <td>-3.813684e+01</td>\n",
       "    </tr>\n",
       "    <tr>\n",
       "      <th>9</th>\n",
       "      <td>96.900000</td>\n",
       "      <td>58.986401</td>\n",
       "      <td>3.791360e+01</td>\n",
       "    </tr>\n",
       "  </tbody>\n",
       "</table>\n",
       "</div>"
      ],
      "text/plain": [
       "     gercek_y   tahmin_y          Hata\n",
       "0  322.740000  63.794578  2.589454e+02\n",
       "1   28.340000  75.815022 -4.747502e+01\n",
       "2   16.500000  72.208889 -5.570889e+01\n",
       "3   23.340000  79.421155 -5.608116e+01\n",
       "4   70.709617  70.709617 -2.415845e-13\n",
       "5   70.709617  70.709617 -2.415845e-13\n",
       "6   92.000000  86.633421  5.366579e+00\n",
       "7    1.020000  51.774134 -5.075413e+01\n",
       "8   32.870000  71.006844 -3.813684e+01\n",
       "9   96.900000  58.986401  3.791360e+01"
      ]
     },
     "execution_count": 86,
     "metadata": {},
     "output_type": "execute_result"
    }
   ],
   "source": [
    "from sklearn.linear_model import LinearRegression\n",
    "X = df[[\"Score\"]]\n",
    "y = df[\"Gross\"]\n",
    "reg = LinearRegression()\n",
    "model = reg.fit(X, y)\n",
    "\n",
    "k_t = pd.DataFrame({\"gercek_y\": y[0:10],\n",
    "                    \"tahmin_y\": reg.predict(X)[0:10]})\n",
    "k_t[\"Hata\"] = k_t[\"gercek_y\"] - k_t[\"tahmin_y\"]\n",
    "k_t"
   ]
  },
  {
   "cell_type": "markdown",
   "id": "5e8bb903",
   "metadata": {},
   "source": [
    "### Sonuç olarak farkları gözlemledik. Fakat burada eksili değerler mevcut. Toplam işlemi yaptığımızda artılı değerler ile eksili değerler birbirini götürecektir. Bunun önüne iki şekilde geçiliyor, ya mutlak değer almamız gerekiyor yada sonuçların karesini..."
   ]
  },
  {
   "cell_type": "code",
   "execution_count": 87,
   "id": "08e0c558",
   "metadata": {},
   "outputs": [
    {
     "data": {
      "text/html": [
       "<div>\n",
       "<style scoped>\n",
       "    .dataframe tbody tr th:only-of-type {\n",
       "        vertical-align: middle;\n",
       "    }\n",
       "\n",
       "    .dataframe tbody tr th {\n",
       "        vertical-align: top;\n",
       "    }\n",
       "\n",
       "    .dataframe thead th {\n",
       "        text-align: right;\n",
       "    }\n",
       "</style>\n",
       "<table border=\"1\" class=\"dataframe\">\n",
       "  <thead>\n",
       "    <tr style=\"text-align: right;\">\n",
       "      <th></th>\n",
       "      <th>gercek_y</th>\n",
       "      <th>tahmin_y</th>\n",
       "      <th>Hata</th>\n",
       "      <th>Hata_kare</th>\n",
       "    </tr>\n",
       "  </thead>\n",
       "  <tbody>\n",
       "    <tr>\n",
       "      <th>0</th>\n",
       "      <td>322.740000</td>\n",
       "      <td>63.794578</td>\n",
       "      <td>2.589454e+02</td>\n",
       "      <td>6.705273e+04</td>\n",
       "    </tr>\n",
       "    <tr>\n",
       "      <th>1</th>\n",
       "      <td>28.340000</td>\n",
       "      <td>75.815022</td>\n",
       "      <td>-4.747502e+01</td>\n",
       "      <td>2.253878e+03</td>\n",
       "    </tr>\n",
       "    <tr>\n",
       "      <th>2</th>\n",
       "      <td>16.500000</td>\n",
       "      <td>72.208889</td>\n",
       "      <td>-5.570889e+01</td>\n",
       "      <td>3.103480e+03</td>\n",
       "    </tr>\n",
       "    <tr>\n",
       "      <th>3</th>\n",
       "      <td>23.340000</td>\n",
       "      <td>79.421155</td>\n",
       "      <td>-5.608116e+01</td>\n",
       "      <td>3.145096e+03</td>\n",
       "    </tr>\n",
       "    <tr>\n",
       "      <th>4</th>\n",
       "      <td>70.709617</td>\n",
       "      <td>70.709617</td>\n",
       "      <td>-2.415845e-13</td>\n",
       "      <td>5.836309e-26</td>\n",
       "    </tr>\n",
       "    <tr>\n",
       "      <th>5</th>\n",
       "      <td>70.709617</td>\n",
       "      <td>70.709617</td>\n",
       "      <td>-2.415845e-13</td>\n",
       "      <td>5.836309e-26</td>\n",
       "    </tr>\n",
       "    <tr>\n",
       "      <th>6</th>\n",
       "      <td>92.000000</td>\n",
       "      <td>86.633421</td>\n",
       "      <td>5.366579e+00</td>\n",
       "      <td>2.880017e+01</td>\n",
       "    </tr>\n",
       "    <tr>\n",
       "      <th>7</th>\n",
       "      <td>1.020000</td>\n",
       "      <td>51.774134</td>\n",
       "      <td>-5.075413e+01</td>\n",
       "      <td>2.575982e+03</td>\n",
       "    </tr>\n",
       "    <tr>\n",
       "      <th>8</th>\n",
       "      <td>32.870000</td>\n",
       "      <td>71.006844</td>\n",
       "      <td>-3.813684e+01</td>\n",
       "      <td>1.454419e+03</td>\n",
       "    </tr>\n",
       "    <tr>\n",
       "      <th>9</th>\n",
       "      <td>96.900000</td>\n",
       "      <td>58.986401</td>\n",
       "      <td>3.791360e+01</td>\n",
       "      <td>1.437441e+03</td>\n",
       "    </tr>\n",
       "  </tbody>\n",
       "</table>\n",
       "</div>"
      ],
      "text/plain": [
       "     gercek_y   tahmin_y          Hata     Hata_kare\n",
       "0  322.740000  63.794578  2.589454e+02  6.705273e+04\n",
       "1   28.340000  75.815022 -4.747502e+01  2.253878e+03\n",
       "2   16.500000  72.208889 -5.570889e+01  3.103480e+03\n",
       "3   23.340000  79.421155 -5.608116e+01  3.145096e+03\n",
       "4   70.709617  70.709617 -2.415845e-13  5.836309e-26\n",
       "5   70.709617  70.709617 -2.415845e-13  5.836309e-26\n",
       "6   92.000000  86.633421  5.366579e+00  2.880017e+01\n",
       "7    1.020000  51.774134 -5.075413e+01  2.575982e+03\n",
       "8   32.870000  71.006844 -3.813684e+01  1.454419e+03\n",
       "9   96.900000  58.986401  3.791360e+01  1.437441e+03"
      ]
     },
     "execution_count": 87,
     "metadata": {},
     "output_type": "execute_result"
    }
   ],
   "source": [
    "k_t[\"Hata_kare\"] = k_t[\"Hata\"] ** 2\n",
    "k_t"
   ]
  },
  {
   "cell_type": "code",
   "execution_count": 88,
   "id": "9b96706d",
   "metadata": {},
   "outputs": [
    {
     "data": {
      "text/plain": [
       "81051.8277145549"
      ]
     },
     "execution_count": 88,
     "metadata": {},
     "output_type": "execute_result"
    }
   ],
   "source": [
    "np.sum(k_t[\"Hata_kare\"]) #Toplam hata"
   ]
  },
  {
   "cell_type": "code",
   "execution_count": 89,
   "id": "5c003108",
   "metadata": {},
   "outputs": [
    {
     "data": {
      "text/plain": [
       "8105.182771455489"
      ]
     },
     "execution_count": 89,
     "metadata": {},
     "output_type": "execute_result"
    }
   ],
   "source": [
    "np.mean(k_t[\"Hata_kare\"]) #Hata ortalaması"
   ]
  },
  {
   "cell_type": "code",
   "execution_count": 90,
   "id": "8e95f159",
   "metadata": {},
   "outputs": [
    {
     "data": {
      "text/plain": [
       "90.02878857040946"
      ]
     },
     "execution_count": 90,
     "metadata": {},
     "output_type": "execute_result"
    }
   ],
   "source": [
    "np.sqrt(np.mean(k_t[\"Hata_kare\"])) # Hata kareler ortalamasının karekökü"
   ]
  },
  {
   "cell_type": "markdown",
   "id": "3874b194",
   "metadata": {},
   "source": [
    "### Çoklu Doğrusal Regresyon - Uygulama"
   ]
  },
  {
   "cell_type": "code",
   "execution_count": 96,
   "id": "ea8189a1",
   "metadata": {},
   "outputs": [],
   "source": [
    "from sklearn.model_selection import train_test_split, cross_val_score, cross_val_predict\n",
    "X = df.drop(\"Gross\", axis=1)\n",
    "y = df[\"Gross\"]\n",
    "X_train, X_test, y_train, y_test = train_test_split(X,y,test_size=0.20,random_state=46)\n",
    "lm = LinearRegression()\n",
    "model = lm.fit(X_train, y_train)"
   ]
  },
  {
   "cell_type": "code",
   "execution_count": 97,
   "id": "9105053a",
   "metadata": {},
   "outputs": [
    {
     "data": {
      "text/plain": [
       "-601.6264663211596"
      ]
     },
     "execution_count": 97,
     "metadata": {},
     "output_type": "execute_result"
    }
   ],
   "source": [
    "model.intercept_ # Modelimizin sabiti"
   ]
  },
  {
   "cell_type": "code",
   "execution_count": 98,
   "id": "12b7f688",
   "metadata": {},
   "outputs": [
    {
     "data": {
      "text/plain": [
       "array([ 1.95750822e-01,  5.62517208e-01, -2.37330484e-03,  1.23298773e-01,\n",
       "       -8.49408592e+01,  1.43610149e+00,  1.65455182e-04])"
      ]
     },
     "execution_count": 98,
     "metadata": {},
     "output_type": "execute_result"
    }
   ],
   "source": [
    "model.coef_ # Modelimizin katsayıları"
   ]
  },
  {
   "cell_type": "markdown",
   "id": "eef83526",
   "metadata": {},
   "source": [
    "### Çoklu doğrusal regresyon için scikit-learn kütüphanesini kullanarak modelimizi kurduk. İlk olarak bağımlı değişkenimiz olan 'Gross'u bağımsız değişkenlerden drop yöntemiyle ayırdık. Bununla birlikte 'test-train' makine öğrenmesi yöntemlerimi oluşturduk. Şimdi eğitim ve test hatalarımıza bakalım."
   ]
  },
  {
   "cell_type": "code",
   "execution_count": 103,
   "id": "5a4e20bf",
   "metadata": {},
   "outputs": [
    {
     "data": {
      "text/plain": [
       "76.81396424285983"
      ]
     },
     "execution_count": 103,
     "metadata": {},
     "output_type": "execute_result"
    }
   ],
   "source": [
    "#Eğitim hatamız:\n",
    "rmse = np.sqrt(mean_squared_error(y_train, model.predict(X_train)))\n",
    "rmse"
   ]
  },
  {
   "cell_type": "code",
   "execution_count": 104,
   "id": "376ed0b6",
   "metadata": {},
   "outputs": [
    {
     "data": {
      "text/plain": [
       "77.30699254588666"
      ]
     },
     "execution_count": 104,
     "metadata": {},
     "output_type": "execute_result"
    }
   ],
   "source": [
    "#Test hatamız:\n",
    "rmse2 = np.sqrt(mean_squared_error(y_test, model.predict(X_test)))\n",
    "rmse2"
   ]
  },
  {
   "cell_type": "markdown",
   "id": "9a6a1e27",
   "metadata": {},
   "source": [
    "### Son olarak çoklu doğrusal regresyon için 'model tunning' (model doğrulama) işlemini uygulayarak modelimizin başarısını test edelim."
   ]
  },
  {
   "cell_type": "code",
   "execution_count": 106,
   "id": "f320e17c",
   "metadata": {},
   "outputs": [
    {
     "data": {
      "text/plain": [
       "0.3294018153379145"
      ]
     },
     "execution_count": 106,
     "metadata": {},
     "output_type": "execute_result"
    }
   ],
   "source": [
    "lm = LinearRegression()\n",
    "model = lm.fit(X_train, y_train)\n",
    "rmse = np.sqrt(mean_squared_error(y_train, model.predict(X_train)))\n",
    "score = model.score(X_train, y_train)\n",
    "cross = cross_val_score(model, X,y,cv=10, scoring=\"r2\").mean()\n",
    "cross"
   ]
  },
  {
   "cell_type": "code",
   "execution_count": 109,
   "id": "45d044ac",
   "metadata": {},
   "outputs": [
    {
     "data": {
      "text/plain": [
       "0.3683211473085394"
      ]
     },
     "execution_count": 109,
     "metadata": {},
     "output_type": "execute_result"
    }
   ],
   "source": [
    "model.score(X_train, y_train)"
   ]
  },
  {
   "cell_type": "code",
   "execution_count": 115,
   "id": "67e05f8c",
   "metadata": {},
   "outputs": [
    {
     "data": {
      "text/plain": [
       "76.89963913989503"
      ]
     },
     "execution_count": 115,
     "metadata": {},
     "output_type": "execute_result"
    }
   ],
   "source": [
    "np.sqrt(-cross_val_score(model, X_train,y_train,cv=10, scoring=\"neg_mean_squared_error\")).mean()"
   ]
  },
  {
   "cell_type": "code",
   "execution_count": 116,
   "id": "e76ea3d2",
   "metadata": {},
   "outputs": [
    {
     "data": {
      "text/plain": [
       "76.40598976677441"
      ]
     },
     "execution_count": 116,
     "metadata": {},
     "output_type": "execute_result"
    }
   ],
   "source": [
    "np.sqrt(-cross_val_score(model, X_test,y_test,cv=10, scoring=\"neg_mean_squared_error\")).mean()"
   ]
  },
  {
   "cell_type": "code",
   "execution_count": 143,
   "id": "62d7b395",
   "metadata": {},
   "outputs": [
    {
     "data": {
      "text/plain": [
       "76.81396424285983"
      ]
     },
     "execution_count": 143,
     "metadata": {},
     "output_type": "execute_result"
    }
   ],
   "source": [
    "rmse = np.sqrt(mean_squared_error(y_train, model.predict(X_train)))\n",
    "rmse"
   ]
  },
  {
   "cell_type": "markdown",
   "id": "b5e0117d",
   "metadata": {},
   "source": [
    "### Böylelikle modelimizi oluşturduk, sabitimizi ve katsayılarımızı gözlemledik. Test ve train hatalarımıza ulaştık ve modeli valide ettik.. Ardından tahmini değerleri modelimize entegre edip model doğrulama işlemiyle modelimizin başarısını ölçtük. Bunlar sadece 'Çoklu Doğrusal Regresyon' modeli için geçerli olan şeylerdi. Şimdi temel mantıkta diğer modellere de göz atalım."
   ]
  },
  {
   "cell_type": "markdown",
   "id": "6505f0dc",
   "metadata": {},
   "source": [
    "### Ridge Regresyon - Uygulama"
   ]
  },
  {
   "cell_type": "code",
   "execution_count": 117,
   "id": "fc4c3655",
   "metadata": {},
   "outputs": [
    {
     "data": {
      "text/plain": [
       "array([ 1.95828954e-01,  5.61988394e-01, -2.22415421e-03,  1.23237038e-01,\n",
       "       -8.48918139e+01,  1.43594555e+00,  1.65437779e-04])"
      ]
     },
     "execution_count": 117,
     "metadata": {},
     "output_type": "execute_result"
    }
   ],
   "source": [
    "from sklearn.linear_model import Ridge\n",
    "from sklearn.model_selection import train_test_split, cross_val_score, cross_val_predict\n",
    "X = df.drop(\"Gross\", axis=1)\n",
    "y = df[\"Gross\"]\n",
    "X_train, X_test, y_train, y_test = train_test_split(X,y,test_size=0.20,random_state=46) # buraya kadar çoklu regresyonda\n",
    "# yaptıklarımız aynı...\n",
    "ridge_model = Ridge(alpha=0.1).fit(X_train, y_train) #modeli kurduk. Buradaki 'alpha' değeri aslında lambdamız\n",
    "ridge_model.coef_#Katsayılarımızı kontrol ediyoruz."
   ]
  },
  {
   "cell_type": "code",
   "execution_count": 118,
   "id": "61b4b3c8",
   "metadata": {},
   "outputs": [
    {
     "data": {
      "text/plain": [
       "-601.2407013327894"
      ]
     },
     "execution_count": 118,
     "metadata": {},
     "output_type": "execute_result"
    }
   ],
   "source": [
    "ridge_model.intercept_#sabitimiz, şimdi rastgele sayıda lambda üreterek model katsayılarımızın uğradığı değişikliği gözlemleyelim"
   ]
  },
  {
   "cell_type": "code",
   "execution_count": 119,
   "id": "5df3cdc3",
   "metadata": {},
   "outputs": [
    {
     "data": {
      "text/plain": [
       "array([5.00000000e+09, 3.78231664e+09, 2.86118383e+09, 2.16438064e+09,\n",
       "       1.63727458e+09, 1.23853818e+09, 9.36908711e+08, 7.08737081e+08,\n",
       "       5.36133611e+08, 4.05565415e+08, 3.06795364e+08, 2.32079442e+08,\n",
       "       1.75559587e+08, 1.32804389e+08, 1.00461650e+08, 7.59955541e+07,\n",
       "       5.74878498e+07, 4.34874501e+07, 3.28966612e+07, 2.48851178e+07,\n",
       "       1.88246790e+07, 1.42401793e+07, 1.07721735e+07, 8.14875417e+06,\n",
       "       6.16423370e+06, 4.66301673e+06, 3.52740116e+06, 2.66834962e+06,\n",
       "       2.01850863e+06, 1.52692775e+06, 1.15506485e+06, 8.73764200e+05,\n",
       "       6.60970574e+05, 5.00000000e+05, 3.78231664e+05, 2.86118383e+05,\n",
       "       2.16438064e+05, 1.63727458e+05, 1.23853818e+05, 9.36908711e+04,\n",
       "       7.08737081e+04, 5.36133611e+04, 4.05565415e+04, 3.06795364e+04,\n",
       "       2.32079442e+04, 1.75559587e+04, 1.32804389e+04, 1.00461650e+04,\n",
       "       7.59955541e+03, 5.74878498e+03, 4.34874501e+03, 3.28966612e+03,\n",
       "       2.48851178e+03, 1.88246790e+03, 1.42401793e+03, 1.07721735e+03,\n",
       "       8.14875417e+02, 6.16423370e+02, 4.66301673e+02, 3.52740116e+02,\n",
       "       2.66834962e+02, 2.01850863e+02, 1.52692775e+02, 1.15506485e+02,\n",
       "       8.73764200e+01, 6.60970574e+01, 5.00000000e+01, 3.78231664e+01,\n",
       "       2.86118383e+01, 2.16438064e+01, 1.63727458e+01, 1.23853818e+01,\n",
       "       9.36908711e+00, 7.08737081e+00, 5.36133611e+00, 4.05565415e+00,\n",
       "       3.06795364e+00, 2.32079442e+00, 1.75559587e+00, 1.32804389e+00,\n",
       "       1.00461650e+00, 7.59955541e-01, 5.74878498e-01, 4.34874501e-01,\n",
       "       3.28966612e-01, 2.48851178e-01, 1.88246790e-01, 1.42401793e-01,\n",
       "       1.07721735e-01, 8.14875417e-02, 6.16423370e-02, 4.66301673e-02,\n",
       "       3.52740116e-02, 2.66834962e-02, 2.01850863e-02, 1.52692775e-02,\n",
       "       1.15506485e-02, 8.73764200e-03, 6.60970574e-03, 5.00000000e-03])"
      ]
     },
     "execution_count": 119,
     "metadata": {},
     "output_type": "execute_result"
    }
   ],
   "source": [
    "lambdas = 10 ** np.linspace(10,-2,100) * 0.5\n",
    "lambdas"
   ]
  },
  {
   "cell_type": "code",
   "execution_count": 124,
   "id": "55042b99",
   "metadata": {},
   "outputs": [
    {
     "data": {
      "text/plain": [
       "[array([ 1.19809698e-03,  4.27568650e-06,  1.67439824e-04, -6.46477709e-07,\n",
       "        -5.26061793e-06,  1.67742884e-05,  1.09999336e-04]),\n",
       " array([ 1.58172847e-03,  5.62072672e-06,  2.21086975e-04, -8.05168895e-07,\n",
       "        -6.95007222e-06,  2.22804093e-05,  1.10027289e-04]),\n",
       " array([ 2.08731711e-03,  7.37551623e-06,  2.91814016e-04, -9.77916991e-07,\n",
       "        -9.18033596e-06,  2.96375572e-05,  1.10064065e-04]),\n",
       " array([ 2.75298208e-03,  9.65478958e-06,  3.84978416e-04, -1.14199398e-06,\n",
       "        -1.21232331e-05,  3.94994969e-05,  1.10112436e-04]),\n",
       " array([ 3.62827828e-03,  1.25976572e-05,  5.07559131e-04, -1.24753563e-06,\n",
       "        -1.60042344e-05,  5.27727410e-05,  1.10176003e-04]),\n",
       " array([ 4.77727680e-03,  1.63664225e-05,  6.68604345e-04, -1.19469764e-06,\n",
       "        -2.11185276e-05,  7.07282842e-05,  1.10259415e-04]),\n",
       " array([ 6.28221777e-03,  2.11387216e-05,  8.79771524e-04, -7.93804190e-07,\n",
       "        -2.78514250e-05,  9.51704473e-05,  1.10368642e-04]),\n",
       " array([ 8.24764417e-03,  2.70866922e-05,  1.15595535e-03,  3.03102685e-07,\n",
       "        -3.67039526e-05,  1.28695087e-04,  1.10511265e-04]),\n",
       " array([ 1.08047337e-02,  3.43324235e-05,  1.51597760e-03,  2.71789902e-06,\n",
       "        -4.83244183e-05,  1.75087878e-04,  1.10696793e-04]),\n",
       " array([ 1.41152233e-02,  4.28619981e-05,  1.98327578e-03,  7.53800881e-06,\n",
       "        -6.35465479e-05,  2.39941168e-04,  1.10936946e-04]),\n",
       " array([ 1.83738221e-02,  5.23701891e-05,  2.58646912e-03,  1.66265832e-05,\n",
       "        -8.34343684e-05,  3.31608023e-04,  1.11245822e-04]),\n",
       " array([ 2.38073210e-02,  6.19938873e-05,  3.35959906e-03,  3.31097177e-05,\n",
       "        -1.09333416e-04,  4.62665938e-04,  1.11639824e-04]),\n",
       " array([ 3.06678014e-02,  6.98754440e-05,  4.34174591e-03,  6.21120965e-05,\n",
       "        -1.42927270e-04,  6.52127441e-04,  1.12137157e-04]),\n",
       " array([ 3.92166924e-02,  7.24809627e-05,  5.57564533e-03,  1.11809718e-04,\n",
       "        -1.86298485e-04,  9.28697382e-04,  1.12756650e-04]),\n",
       " array([ 4.96964886e-02,  6.35913365e-05,  7.10493696e-03,  1.94826379e-04,\n",
       "        -2.41994961e-04,  1.33540809e-03,  1.13515686e-04]),\n",
       " array([ 6.22886323e-02,  3.28985787e-05,  8.96988108e-03,  3.29885068e-04,\n",
       "        -3.13108635e-04,  1.93591678e-03,  1.14427111e-04]),\n",
       " array([ 7.70602867e-02, -3.58097594e-05,  1.12018891e-02,  5.43404015e-04,\n",
       "        -4.03385117e-04,  2.82257502e-03,  1.15495354e-04]),\n",
       " array([ 0.09390958, -0.00016681,  0.01381804,  0.0008704 , -0.0005174 ,\n",
       "         0.00412607,  0.00011671]),\n",
       " array([ 0.11252628, -0.00039477,  0.01681761,  0.00135377, -0.00066087,\n",
       "         0.00602606,  0.00011806]),\n",
       " array([ 1.32388100e-01, -7.67097119e-04,  2.01831148e-02,  2.04074218e-03,\n",
       "        -8.41119875e-04,  8.76214531e-03,  1.19484865e-04]),\n",
       " array([ 1.52806410e-01, -1.34612424e-03,  2.38873373e-02,  2.97603465e-03,\n",
       "        -1.06789741e-03,  1.26445129e-02,  1.20950973e-04]),\n",
       " array([ 1.73018332e-01, -2.21141987e-03,  2.79060507e-02,  4.19171523e-03,\n",
       "        -1.35439861e-03,  1.80646115e-02,  1.22397813e-04]),\n",
       " array([ 1.92301845e-01, -3.46255616e-03,  3.22333837e-02,  5.69584924e-03,\n",
       "        -1.71869830e-03,  2.55063567e-02,  1.23773249e-04]),\n",
       " array([ 2.10079442e-01, -5.22290757e-03,  3.68955827e-02,  7.46302917e-03,\n",
       "        -2.18551226e-03,  3.55583297e-02,  1.25036428e-04]),\n",
       " array([ 2.25981523e-01, -7.64473600e-03,  4.19594777e-02,  9.43052675e-03,\n",
       "        -2.78838896e-03,  4.89255235e-02,  1.26162518e-04]),\n",
       " array([ 2.39859068e-01, -1.09152588e-02,  4.75339911e-02,  1.15026712e-02,\n",
       "        -3.57247272e-03,  6.64360356e-02,  1.27143616e-04]),\n",
       " array([ 2.51754303e-01, -1.52625838e-02,  5.37649127e-02,  1.35634369e-02,\n",
       "        -4.59807940e-03,  8.90341416e-02,  1.27986443e-04]),\n",
       " array([ 2.61848103e-01, -2.09593861e-02,  6.08237236e-02,  1.54941067e-02,\n",
       "        -5.94541585e-03,  1.17747429e-01,  1.28708212e-04]),\n",
       " array([ 2.70402378e-01, -2.83209414e-02,  6.88905293e-02,  1.71909534e-02,\n",
       "        -7.72085662e-03,  1.53613571e-01,  1.29332046e-04]),\n",
       " array([ 2.77709134e-01, -3.76926727e-02,  7.81301663e-02,  1.85783304e-02,\n",
       "        -1.00652730e-02,  1.97554318e-01,  1.29882856e-04]),\n",
       " array([ 2.84050938e-01, -4.94212706e-02,  8.86607167e-02,  1.96149719e-02,\n",
       "        -1.31650093e-02,  2.50193821e-01,  1.30384059e-04]),\n",
       " array([ 2.89673021e-01, -6.38041164e-02,  1.00516124e-01,  2.02940145e-02,\n",
       "        -1.72662464e-02,  3.11638514e-01,  1.30855155e-04]),\n",
       " array([ 2.94765751e-01, -8.10163593e-02,  1.13609414e-01,  2.06387067e-02,\n",
       "        -2.26937280e-02,  3.81264819e-01,  1.31310115e-04]),\n",
       " array([ 2.99456621e-01, -1.01025240e-01,  1.27708275e-01,  2.06957037e-02,\n",
       "        -2.98752221e-02,  4.57588030e-01,  1.31756568e-04]),\n",
       " array([ 3.03811590e-01, -1.23515333e-01,  1.42436537e-01,  2.05270653e-02,\n",
       "        -3.93736916e-02,  5.38290399e-01,  1.32195880e-04]),\n",
       " array([ 3.07845337e-01, -1.47858530e-01,  1.57309802e-01,  2.02016210e-02,\n",
       "        -5.19299612e-02,  6.20450129e-01,  1.32624205e-04]),\n",
       " array([ 3.11538379e-01, -1.73157311e-01,  1.71801148e-01,  1.97865607e-02,\n",
       "        -6.85195837e-02,  7.00939358e-01,  1.33034373e-04]),\n",
       " array([ 3.14856954e-01, -1.98364209e-01,  1.85419440e-01,  1.93405194e-02,\n",
       "        -9.04285311e-02,  7.76883797e-01,  1.33418229e-04]),\n",
       " array([ 3.17770639e-01, -2.22445245e-01,  1.97776675e-01,  1.89093528e-02,\n",
       "        -1.19353319e-01,  8.46047110e-01,  1.33768818e-04]),\n",
       " array([ 3.20263795e-01, -2.44533528e-01,  2.08626123e-01,  1.85250733e-02,\n",
       "        -1.57532465e-01,  9.07039589e-01,  1.34081912e-04]),\n",
       " array([ 3.22339536e-01, -2.64026019e-01,  2.17866004e-01,  1.82074592e-02,\n",
       "        -2.07918062e-01,  9.59328060e-01,  1.34356651e-04]),\n",
       " array([ 3.24017496e-01, -2.80605470e-01,  2.25515941e-01,  1.79672501e-02,\n",
       "        -2.74398825e-01,  1.00309430e+00,  1.34595396e-04]),\n",
       " array([ 3.25328028e-01, -2.94199992e-01,  2.31679473e-01,  1.78098140e-02,\n",
       "        -3.62089023e-01,  1.03902059e+00,  1.34803116e-04]),\n",
       " array([ 3.26305405e-01, -3.04908466e-01,  2.36505032e-01,  1.77385284e-02,\n",
       "        -4.77700967e-01,  1.06807304e+00,  1.34986653e-04]),\n",
       " array([ 3.26981721e-01, -3.12919163e-01,  2.40153150e-01,  1.77575625e-02,\n",
       "        -6.30021709e-01,  1.09132550e+00,  1.35154107e-04]),\n",
       " array([ 3.27382169e-01, -3.18438931e-01,  2.42772719e-01,  1.78740676e-02,\n",
       "        -8.30516486e-01,  1.10983875e+00,  1.35314480e-04]),\n",
       " array([ 3.27521709e-01, -3.21639499e-01,  2.44485779e-01,  1.80999454e-02,\n",
       "        -1.09408085e+00,  1.12459129e+00,  1.35477583e-04]),\n",
       " array([ 3.27402725e-01, -3.22620126e-01,  2.45378732e-01,  1.84533947e-02,\n",
       "        -1.43995750e+00,  1.13644948e+00,  1.35654189e-04]),\n",
       " array([ 3.27013288e-01, -3.21382590e-01,  2.45497704e-01,  1.89603980e-02,\n",
       "        -1.89281828e+00,  1.14616410e+00,  1.35856367e-04]),\n",
       " array([ 3.26325680e-01, -3.17814244e-01,  2.44846183e-01,  1.96562250e-02,\n",
       "        -2.48397907e+00,  1.15438202e+00,  1.36097940e-04]),\n",
       " array([ 3.25295085e-01, -3.11676211e-01,  2.43383859e-01,  2.05869143e-02,\n",
       "        -3.25265556e+00,  1.16166530e+00,  1.36394997e-04]),\n",
       " array([ 3.23858567e-01, -3.02595989e-01,  2.41026343e-01,  2.18105399e-02,\n",
       "        -4.24706796e+00,  1.16851193e+00,  1.36766367e-04]),\n",
       " array([ 3.21934800e-01, -2.90066411e-01,  2.37646330e-01,  2.33978526e-02,\n",
       "        -5.52505036e+00,  1.17537460e+00,  1.37233916e-04]),\n",
       " array([ 3.19425387e-01, -2.73455870e-01,  2.33077637e-01,  2.54316164e-02,\n",
       "        -7.15361296e+00,  1.18267437e+00,  1.37822463e-04]),\n",
       " array([ 3.16218996e-01, -2.52037815e-01,  2.27124410e-01,  2.80036515e-02,\n",
       "        -9.20667052e+00,  1.19080624e+00,  1.38559037e-04]),\n",
       " array([ 3.12199868e-01, -2.25049692e-01,  2.19578442e-01,  3.12083735e-02,\n",
       "        -1.17599729e+01,  1.20013356e+00,  1.39471132e-04]),\n",
       " array([ 3.07262125e-01, -1.91791069e-01,  2.10247381e-01,  3.51316892e-02,\n",
       "        -1.48823346e+01,  1.21096866e+00,  1.40583636e-04]),\n",
       " array([ 3.01330445e-01, -1.51764579e-01,  1.98994886e-01,  3.98348276e-02,\n",
       "        -1.86228306e+01,  1.22353887e+00,  1.41914321e-04]),\n",
       " array([ 2.94385507e-01, -1.04848989e-01,  1.85789759e-01,  4.53343636e-02,\n",
       "        -2.29949584e+01,  1.23794156e+00,  1.43468250e-04]),\n",
       " array([ 2.86489330e-01, -5.14714058e-02,  1.70754749e-01,  5.15822953e-02,\n",
       "        -2.79608354e+01,  1.25409799e+00,  1.45232190e-04]),\n",
       " array([ 2.77802294e-01,  7.27699659e-03,  1.54199377e-01,  5.84526723e-02,\n",
       "        -3.34205955e+01,  1.27172282e+00,  1.47170867e-04]),\n",
       " array([ 2.68582546e-01,  6.96445926e-02,  1.36619048e-01,  6.57421236e-02,\n",
       "        -3.92128229e+01,  1.29032787e+00,  1.49227130e-04]),\n",
       " array([ 2.59162085e-01,  1.33380845e-01,  1.18649586e-01,  7.31887916e-02,\n",
       "        -4.51296041e+01,  1.30927169e+00,  1.51327301e-04]),\n",
       " array([ 2.49902156e-01,  1.96038052e-01,  1.00982191e-01,  8.05076117e-02,\n",
       "        -5.09445634e+01,  1.32784989e+00,  1.53391132e-04]),\n",
       " array([ 2.41139752e-01,  2.55333241e-01,  8.42614172e-02,  8.74325967e-02,\n",
       "        -5.64464601e+01,  1.34540276e+00,  1.55343724e-04]),\n",
       " array([ 2.33141410e-01,  3.09460814e-01,  6.89970203e-02,  9.37533621e-02,\n",
       "        -6.14682098e+01,  1.36140813e+00,  1.57125837e-04]),\n",
       " array([ 2.26076862e-01,  3.57270793e-01,  5.55137127e-02,  9.93359572e-02,\n",
       "        -6.59034366e+01,  1.37553453e+00,  1.58699756e-04]),\n",
       " array([ 2.20016145e-01,  3.98288292e-01,  4.39456955e-02,  1.04125159e-01,\n",
       "        -6.97082975e+01,  1.38764736e+00,  1.60049949e-04]),\n",
       " array([ 2.14945129e-01,  4.32608351e-01,  3.42663443e-02,  1.08132211e-01,\n",
       "        -7.28917461e+01,  1.39777843e+00,  1.61179611e-04]),\n",
       " array([ 2.10790286e-01,  4.60728223e-01,  2.63355317e-02,  1.11415266e-01,\n",
       "        -7.54999937e+01,  1.40607691e+00,  1.62105149e-04]),\n",
       " array([ 2.07444212e-01,  4.83374579e-01,  1.99483811e-02,  1.14059221e-01,\n",
       "        -7.76004970e+01,  1.41275872e+00,  1.62850508e-04]),\n",
       " array([ 2.04786649e-01,  5.01361197e-01,  1.48754192e-02,  1.16159122e-01,\n",
       "        -7.92687688e+01,  1.41806486e+00,  1.63442487e-04]),\n",
       " array([ 2.02699115e-01,  5.15489883e-01,  1.08905290e-02,  1.17808599e-01,\n",
       "        -8.05791976e+01,  1.42223244e+00,  1.63907485e-04]),\n",
       " array([ 2.01073528e-01,  5.26492101e-01,  7.78742293e-03,  1.19093060e-01,\n",
       "        -8.15996379e+01,  1.42547751e+00,  1.64269581e-04]),\n",
       " array([ 1.99816207e-01,  5.35001860e-01,  5.38729183e-03,  1.20086531e-01,\n",
       "        -8.23889004e+01,  1.42798729e+00,  1.64549644e-04]),\n",
       " array([ 1.98848808e-01,  5.41549389e-01,  3.54059263e-03,  1.20850918e-01,\n",
       "        -8.29961668e+01,  1.42991826e+00,  1.64765128e-04]),\n",
       " array([ 1.98107478e-01,  5.46566859e-01,  2.12543676e-03,  1.21436678e-01,\n",
       "        -8.34615223e+01,  1.43139794e+00,  1.64930255e-04]),\n",
       " array([ 1.97541141e-01,  5.50399942e-01,  1.04433053e-03,  1.21884166e-01,\n",
       "        -8.38170283e+01,  1.43252830e+00,  1.65056403e-04]),\n",
       " array([ 1.97109511e-01,  5.53321300e-01,  2.20372046e-04,  1.22225215e-01,\n",
       "        -8.40879742e+01,  1.43338979e+00,  1.65152545e-04]),\n",
       " array([ 1.96781140e-01,  5.55543783e-01, -4.06471654e-04,  1.22484675e-01,\n",
       "        -8.42941014e+01,  1.43404517e+00,  1.65225687e-04]),\n",
       " array([ 1.96531668e-01,  5.57232265e-01, -8.82702332e-04,  1.22681794e-01,\n",
       "        -8.44507017e+01,  1.43454307e+00,  1.65281255e-04]),\n",
       " array([ 1.96342335e-01,  5.58513714e-01, -1.24413111e-03,  1.22831394e-01,\n",
       "        -8.45695512e+01,  1.43492095e+00,  1.65323428e-04]),\n",
       " array([ 1.96198757e-01,  5.59485483e-01, -1.51821560e-03,  1.22944841e-01,\n",
       "        -8.46596790e+01,  1.43520750e+00,  1.65355409e-04]),\n",
       " array([ 1.96089942e-01,  5.60221968e-01, -1.72593906e-03,  1.23030821e-01,\n",
       "        -8.47279851e+01,  1.43542468e+00,  1.65379646e-04]),\n",
       " array([ 1.96007510e-01,  5.60779883e-01, -1.88329716e-03,  1.23095953e-01,\n",
       "        -8.47797294e+01,  1.43558919e+00,  1.65398007e-04]),\n",
       " array([ 1.95945087e-01,  5.61202377e-01, -2.00246060e-03,  1.23145276e-01,\n",
       "        -8.48189141e+01,  1.43571378e+00,  1.65411912e-04]),\n",
       " array([ 1.95897828e-01,  5.61522239e-01, -2.09267661e-03,  1.23182618e-01,\n",
       "        -8.48485799e+01,  1.43580810e+00,  1.65422438e-04]),\n",
       " array([ 1.95862056e-01,  5.61764351e-01, -2.16096367e-03,  1.23210883e-01,\n",
       "        -8.48710349e+01,  1.43587949e+00,  1.65430406e-04]),\n",
       " array([ 1.95834983e-01,  5.61947585e-01, -2.21264436e-03,  1.23232274e-01,\n",
       "        -8.48880291e+01,  1.43593352e+00,  1.65436436e-04]),\n",
       " array([ 1.95814496e-01,  5.62086244e-01, -2.25175266e-03,  1.23248461e-01,\n",
       "        -8.49008891e+01,  1.43597441e+00,  1.65440999e-04]),\n",
       " array([ 1.95798995e-01,  5.62191162e-01, -2.28134453e-03,  1.23260710e-01,\n",
       "        -8.49106198e+01,  1.43600534e+00,  1.65444452e-04]),\n",
       " array([ 1.95787266e-01,  5.62270545e-01, -2.30373420e-03,  1.23269977e-01,\n",
       "        -8.49179823e+01,  1.43602875e+00,  1.65447065e-04]),\n",
       " array([ 1.95778392e-01,  5.62330604e-01, -2.32067375e-03,  1.23276989e-01,\n",
       "        -8.49235525e+01,  1.43604646e+00,  1.65449041e-04]),\n",
       " array([ 1.95771679e-01,  5.62376042e-01, -2.33348937e-03,  1.23282293e-01,\n",
       "        -8.49277667e+01,  1.43605986e+00,  1.65450537e-04]),\n",
       " array([ 1.95766600e-01,  5.62410417e-01, -2.34318477e-03,  1.23286306e-01,\n",
       "        -8.49309548e+01,  1.43607000e+00,  1.65451668e-04]),\n",
       " array([ 1.95762758e-01,  5.62436422e-01, -2.35051946e-03,  1.23289342e-01,\n",
       "        -8.49333667e+01,  1.43607766e+00,  1.65452524e-04]),\n",
       " array([ 1.95759851e-01,  5.62456095e-01, -2.35606817e-03,  1.23291639e-01,\n",
       "        -8.49351913e+01,  1.43608347e+00,  1.65453171e-04]),\n",
       " array([ 1.95757652e-01,  5.62470978e-01, -2.36026572e-03,  1.23293376e-01,\n",
       "        -8.49365716e+01,  1.43608785e+00,  1.65453661e-04]),\n",
       " array([ 1.95755989e-01,  5.62482236e-01, -2.36344110e-03,  1.23294691e-01,\n",
       "        -8.49376157e+01,  1.43609117e+00,  1.65454032e-04]),\n",
       " array([ 1.95754731e-01,  5.62490753e-01, -2.36584321e-03,  1.23295685e-01,\n",
       "        -8.49384056e+01,  1.43609369e+00,  1.65454312e-04])]"
      ]
     },
     "execution_count": 124,
     "metadata": {},
     "output_type": "execute_result"
    }
   ],
   "source": [
    "ridge_model = Ridge()\n",
    "katsayilar = []\n",
    "for i in lambdas:\n",
    "    ridge_model.set_params(alpha = i)\n",
    "    ridge_model.fit(X_train, y_train)\n",
    "    katsayilar.append(ridge_model.coef_)\n",
    "katsayilar"
   ]
  },
  {
   "cell_type": "code",
   "execution_count": 125,
   "id": "df5e8cfa",
   "metadata": {},
   "outputs": [
    {
     "data": {
      "image/png": "[encoded data removed]",
      "text/plain": [
       "<Figure size 432x288 with 1 Axes>"
      ]
     },
     "metadata": {
      "needs_background": "light"
     },
     "output_type": "display_data"
    }
   ],
   "source": [
    "px = plt.gca()\n",
    "px.plot(lambdas, katsayilar)\n",
    "px.set_xscale('log')\n",
    "plt.xlabel('Alpha değerleri')\n",
    "plt.ylabel('Katsayılar')\n",
    "plt.title('Ridge Katsayıları')\n",
    "plt.show()"
   ]
  },
  {
   "cell_type": "markdown",
   "id": "6fc1ae78",
   "metadata": {},
   "source": [
    "### Ridge Regresyon - Tahmin:"
   ]
  },
  {
   "cell_type": "code",
   "execution_count": 126,
   "id": "e3d870d7",
   "metadata": {},
   "outputs": [
    {
     "data": {
      "text/plain": [
       "77.30699842379397"
      ]
     },
     "execution_count": 126,
     "metadata": {},
     "output_type": "execute_result"
    }
   ],
   "source": [
    "y_pred = ridge_model.predict(X_test) #Artık klasik olarak tahmin modeli oluşturmak için 'predict' kullanıldığını biliyoruz.\n",
    "np.sqrt(mean_squared_error(y_test, y_pred))"
   ]
  },
  {
   "cell_type": "markdown",
   "id": "424c1432",
   "metadata": {},
   "source": [
    "### Ridge Regresyon - Model Tunning"
   ]
  },
  {
   "cell_type": "code",
   "execution_count": 131,
   "id": "e834c7ba",
   "metadata": {},
   "outputs": [
    {
     "data": {
      "text/plain": [
       "0.005"
      ]
     },
     "execution_count": 131,
     "metadata": {},
     "output_type": "execute_result"
    }
   ],
   "source": [
    "from sklearn.linear_model import RidgeCV\n",
    "from warnings import filterwarnings\n",
    "filterwarnings('ignore')\n",
    "lambdas = 10 ** np.linspace(10, -2, 100) * 0.5\n",
    "ridge_cv = RidgeCV(alphas = lambdas, scoring = \"neg_mean_squared_error\", normalize = True)\n",
    "ridge_cv.fit(X_train, y_train)\n",
    "ridge_cv.alpha_"
   ]
  },
  {
   "cell_type": "markdown",
   "id": "70008fc6",
   "metadata": {},
   "source": [
    "#### Evet bunlarla birlikte optimum lambda değerimizi ürettik. Şimdi bunu kullanarak final değerimize ulaşmaya çalışacağız. Tune işlemleri..."
   ]
  },
  {
   "cell_type": "code",
   "execution_count": 134,
   "id": "a3a9e708",
   "metadata": {},
   "outputs": [
    {
     "data": {
      "text/plain": [
       "77.29178372282998"
      ]
     },
     "execution_count": 134,
     "metadata": {},
     "output_type": "execute_result"
    }
   ],
   "source": [
    "ridge_tuned = Ridge(alpha = ridge_cv.alpha_, normalize = True).fit(X_train, y_train)\n",
    "np.sqrt(mean_squared_error(y_test, ridge_tuned.predict(X_test)))"
   ]
  },
  {
   "cell_type": "markdown",
   "id": "2ac6236a",
   "metadata": {},
   "source": [
    " ### Lasso Regresyon - Uygulama"
   ]
  },
  {
   "cell_type": "code",
   "execution_count": 135,
   "id": "f2040091",
   "metadata": {},
   "outputs": [
    {
     "data": {
      "text/plain": [
       "array([ 2.00550810e-01,  5.28110966e-01,  6.45881075e-03,  1.19415937e-01,\n",
       "       -8.19055974e+01,  1.42485606e+00,  1.64384105e-04])"
      ]
     },
     "execution_count": 135,
     "metadata": {},
     "output_type": "execute_result"
    }
   ],
   "source": [
    "from sklearn.linear_model import Lasso\n",
    "lasso_model = Lasso(alpha= 0.1).fit(X_train, y_train)\n",
    "lasso_model.coef_"
   ]
  },
  {
   "cell_type": "code",
   "execution_count": 137,
   "id": "e8718772",
   "metadata": {},
   "outputs": [
    {
     "data": {
      "text/plain": [
       "[array([-0.,  0.,  0.,  0.,  0., -0.,  0.]),\n",
       " array([-0.,  0.,  0.,  0.,  0., -0.,  0.]),\n",
       " array([-0.,  0.,  0.,  0.,  0., -0.,  0.]),\n",
       " array([-0.,  0.,  0.,  0.,  0., -0.,  0.]),\n",
       " array([-0.,  0.,  0.,  0.,  0., -0.,  0.]),\n",
       " array([-0.,  0.,  0.,  0.,  0., -0.,  0.]),\n",
       " array([-0.,  0.,  0.,  0.,  0., -0.,  0.]),\n",
       " array([-0.,  0.,  0.,  0.,  0., -0.,  0.]),\n",
       " array([-0.,  0.,  0.,  0.,  0., -0.,  0.]),\n",
       " array([-0.,  0.,  0.,  0.,  0., -0.,  0.]),\n",
       " array([-0.,  0.,  0.,  0.,  0., -0.,  0.]),\n",
       " array([-0.,  0.,  0.,  0.,  0., -0.,  0.]),\n",
       " array([-0.,  0.,  0.,  0.,  0., -0.,  0.]),\n",
       " array([-0.,  0.,  0.,  0.,  0., -0.,  0.]),\n",
       " array([-0.,  0.,  0.,  0.,  0., -0.,  0.]),\n",
       " array([-0.,  0.,  0.,  0.,  0., -0.,  0.]),\n",
       " array([-0.,  0.,  0.,  0.,  0., -0.,  0.]),\n",
       " array([-0.,  0.,  0.,  0.,  0., -0.,  0.]),\n",
       " array([-0.,  0.,  0.,  0.,  0., -0.,  0.]),\n",
       " array([-0.00000000e+00,  0.00000000e+00,  0.00000000e+00,  0.00000000e+00,\n",
       "         0.00000000e+00, -0.00000000e+00,  9.41039931e-07]),\n",
       " array([-0.00000000e+00,  0.00000000e+00,  0.00000000e+00,  0.00000000e+00,\n",
       "         0.00000000e+00, -0.00000000e+00,  2.74796715e-05]),\n",
       " array([ 0.0000000e+00,  0.0000000e+00,  0.0000000e+00,  0.0000000e+00,\n",
       "         0.0000000e+00, -0.0000000e+00,  4.7555173e-05]),\n",
       " array([ 0.00000000e+00,  0.00000000e+00,  0.00000000e+00,  0.00000000e+00,\n",
       "        -0.00000000e+00, -0.00000000e+00,  6.27415537e-05]),\n",
       " array([ 0.00000000e+00,  0.00000000e+00,  0.00000000e+00,  0.00000000e+00,\n",
       "        -0.00000000e+00, -0.00000000e+00,  7.42294938e-05]),\n",
       " array([ 0.00000000e+00,  0.00000000e+00,  0.00000000e+00,  0.00000000e+00,\n",
       "        -0.00000000e+00, -0.00000000e+00,  8.29196992e-05]),\n",
       " array([ 0.00000000e+00,  0.00000000e+00,  0.00000000e+00,  0.00000000e+00,\n",
       "        -0.00000000e+00, -0.00000000e+00,  8.94935209e-05]),\n",
       " array([ 0.00000000e+00,  0.00000000e+00,  0.00000000e+00,  0.00000000e+00,\n",
       "        -0.00000000e+00, -0.00000000e+00,  9.44663759e-05]),\n",
       " array([ 0.00000000e+00,  0.00000000e+00,  0.00000000e+00,  0.00000000e+00,\n",
       "        -0.00000000e+00,  0.00000000e+00,  9.82281583e-05]),\n",
       " array([ 0.        ,  0.        ,  0.        ,  0.        , -0.        ,\n",
       "         0.        ,  0.00010107]),\n",
       " array([ 0.        ,  0.        ,  0.        ,  0.        , -0.        ,\n",
       "         0.        ,  0.00010323]),\n",
       " array([ 0.        ,  0.        ,  0.        ,  0.        , -0.        ,\n",
       "         0.        ,  0.00010485]),\n",
       " array([ 0.        ,  0.        ,  0.        ,  0.        , -0.        ,\n",
       "         0.        ,  0.00010609]),\n",
       " array([ 0.        ,  0.        ,  0.        ,  0.        , -0.        ,\n",
       "         0.        ,  0.00010702]),\n",
       " array([ 0.        ,  0.        ,  0.        ,  0.        , -0.        ,\n",
       "         0.        ,  0.00010772]),\n",
       " array([ 0.        ,  0.        ,  0.        ,  0.        , -0.        ,\n",
       "         0.        ,  0.00010826]),\n",
       " array([ 0.        ,  0.        ,  0.        ,  0.        , -0.        ,\n",
       "         0.        ,  0.00010866]),\n",
       " array([ 0.        ,  0.        ,  0.        ,  0.        , -0.        ,\n",
       "         0.        ,  0.00010897]),\n",
       " array([ 0.       ,  0.       ,  0.       ,  0.       , -0.       ,\n",
       "         0.       ,  0.0001092]),\n",
       " array([ 0.        ,  0.        ,  0.        ,  0.        , -0.        ,\n",
       "         0.        ,  0.00010937]),\n",
       " array([ 0.       ,  0.       ,  0.       ,  0.       , -0.       ,\n",
       "         0.       ,  0.0001095]),\n",
       " array([ 0.       ,  0.       ,  0.       ,  0.       , -0.       ,\n",
       "         0.       ,  0.0001096]),\n",
       " array([ 0.        ,  0.        ,  0.        ,  0.        , -0.        ,\n",
       "         0.        ,  0.00010968]),\n",
       " array([ 0.        ,  0.        ,  0.        , -0.        , -0.        ,\n",
       "         0.        ,  0.00010974]),\n",
       " array([ 0.        ,  0.        ,  0.        , -0.        , -0.        ,\n",
       "         0.        ,  0.00010978]),\n",
       " array([ 0.        ,  0.        ,  0.        , -0.        , -0.        ,\n",
       "         0.        ,  0.00010981]),\n",
       " array([ 0.        ,  0.        ,  0.        , -0.        , -0.        ,\n",
       "         0.        ,  0.00010984]),\n",
       " array([ 0.        ,  0.        ,  0.        , -0.        , -0.        ,\n",
       "         0.        ,  0.00010985]),\n",
       " array([ 0.        ,  0.        ,  0.        , -0.        , -0.        ,\n",
       "         0.        ,  0.00010987]),\n",
       " array([ 0.        ,  0.        ,  0.        , -0.        , -0.        ,\n",
       "         0.        ,  0.00010988]),\n",
       " array([ 0.        ,  0.        ,  0.        , -0.        , -0.        ,\n",
       "         0.        ,  0.00010989]),\n",
       " array([ 0.        ,  0.        ,  0.        , -0.        , -0.        ,\n",
       "         0.        ,  0.00010989]),\n",
       " array([ 0.       ,  0.       ,  0.       , -0.       , -0.       ,\n",
       "         0.       ,  0.0001099]),\n",
       " array([ 0.       ,  0.       ,  0.       , -0.       , -0.       ,\n",
       "         0.       ,  0.0001099]),\n",
       " array([ 0.       ,  0.       ,  0.       , -0.       , -0.       ,\n",
       "         0.       ,  0.0001099]),\n",
       " array([ 0.        ,  0.        ,  0.        , -0.        , -0.        ,\n",
       "         0.        ,  0.00010991]),\n",
       " array([ 0.0203701 ,  0.        ,  0.        ,  0.        , -0.        ,\n",
       "         0.        ,  0.00011145]),\n",
       " array([ 0.08762128, -0.        ,  0.        ,  0.        , -0.        ,\n",
       "         0.        ,  0.00011655]),\n",
       " array([ 1.38492644e-01, -0.00000000e+00,  0.00000000e+00,  0.00000000e+00,\n",
       "        -0.00000000e+00,  0.00000000e+00,  1.20408239e-04]),\n",
       " array([ 1.76979163e-01, -0.00000000e+00,  0.00000000e+00,  0.00000000e+00,\n",
       "        -0.00000000e+00,  0.00000000e+00,  1.23326270e-04]),\n",
       " array([ 2.06090585e-01, -0.00000000e+00,  0.00000000e+00,  0.00000000e+00,\n",
       "        -0.00000000e+00,  0.00000000e+00,  1.25533487e-04]),\n",
       " array([ 2.28111924e-01, -0.00000000e+00,  0.00000000e+00,  0.00000000e+00,\n",
       "        -0.00000000e+00,  0.00000000e+00,  1.27203135e-04]),\n",
       " array([ 2.44769769e-01, -0.00000000e+00,  0.00000000e+00,  0.00000000e+00,\n",
       "        -0.00000000e+00,  0.00000000e+00,  1.28466126e-04]),\n",
       " array([ 2.57370232e-01, -0.00000000e+00,  0.00000000e+00,  0.00000000e+00,\n",
       "        -0.00000000e+00,  0.00000000e+00,  1.29421488e-04]),\n",
       " array([ 2.66900691e-01, -0.00000000e+00,  0.00000000e+00,  0.00000000e+00,\n",
       "        -0.00000000e+00,  0.00000000e+00,  1.30144084e-04]),\n",
       " array([ 2.74116611e-01, -0.00000000e+00,  0.00000000e+00,  0.00000000e+00,\n",
       "        -0.00000000e+00,  0.00000000e+00,  1.30691192e-04]),\n",
       " array([ 2.81688119e-01, -0.00000000e+00,  0.00000000e+00,  0.00000000e+00,\n",
       "        -0.00000000e+00,  4.31745782e-02,  1.31464948e-04]),\n",
       " array([ 2.96006486e-01, -0.00000000e+00,  1.18639907e-02,  0.00000000e+00,\n",
       "        -0.00000000e+00,  2.77959040e-01,  1.33357065e-04]),\n",
       " array([ 3.03225792e-01, -0.00000000e+00,  6.89458865e-02,  0.00000000e+00,\n",
       "        -0.00000000e+00,  4.89777547e-01,  1.33539817e-04]),\n",
       " array([ 3.08677797e-01, -0.00000000e+00,  1.12140874e-01,  0.00000000e+00,\n",
       "        -0.00000000e+00,  6.49986853e-01,  1.33676916e-04]),\n",
       " array([ 3.12809380e-01, -0.00000000e+00,  1.44804532e-01,  0.00000000e+00,\n",
       "        -0.00000000e+00,  7.71198297e-01,  1.33781548e-04]),\n",
       " array([ 3.15986560e-01, -3.62763464e-03,  1.69630459e-01,  4.88976525e-05,\n",
       "        -0.00000000e+00,  8.63101857e-01,  1.33874337e-04]),\n",
       " array([ 3.19658811e-01, -8.87121437e-02,  1.90677838e-01,  4.02656259e-03,\n",
       "        -0.00000000e+00,  9.37032454e-01,  1.34224903e-04]),\n",
       " array([ 3.22437674e-01, -1.53076675e-01,  2.06598160e-01,  7.03517869e-03,\n",
       "        -0.00000000e+00,  9.92961007e-01,  1.34490216e-04]),\n",
       " array([ 3.24539801e-01, -2.01766108e-01,  2.18641273e-01,  9.31107935e-03,\n",
       "        -0.00000000e+00,  1.03526896e+00,  1.34690918e-04]),\n",
       " array([ 3.26129992e-01, -2.38597890e-01,  2.27751435e-01,  1.10327114e-02,\n",
       "        -0.00000000e+00,  1.06727341e+00,  1.34842743e-04]),\n",
       " array([ 3.27332936e-01, -2.66459812e-01,  2.34642908e-01,  1.23350548e-02,\n",
       "        -0.00000000e+00,  1.09148367e+00,  1.34957595e-04]),\n",
       " array([ 3.28242919e-01, -2.87536334e-01,  2.39856056e-01,  1.33202299e-02,\n",
       "        -0.00000000e+00,  1.10979784e+00,  1.35044477e-04]),\n",
       " array([ 3.03476182e-01, -1.31160114e-01,  1.95124600e-01,  3.41861952e-02,\n",
       "        -1.59917365e+01,  1.17443257e+00,  1.40787468e-04]),\n",
       " array([ 2.78558806e-01, -0.00000000e+00,  1.49753141e-01,  5.55264065e-02,\n",
       "        -3.22408128e+01,  1.23835327e+00,  1.46723158e-04]),\n",
       " array([ 2.59492734e-01,  1.05528288e-01,  1.14967828e-01,  7.17292446e-02,\n",
       "        -4.46238987e+01,  1.28668498e+00,  1.51226047e-04]),\n",
       " array([ 2.43973871e-01,  2.16803445e-01,  8.63898697e-02,  8.42858363e-02,\n",
       "        -5.44422049e+01,  1.32308167e+00,  1.54691722e-04]),\n",
       " array([ 2.32225364e-01,  3.01021359e-01,  6.47699471e-02,  9.37897889e-02,\n",
       "        -6.18707302e+01,  1.35060372e+00,  1.57313052e-04]),\n",
       " array([ 2.23344783e-01,  3.64697042e-01,  4.84169326e-02,  1.00975154e-01,\n",
       "        -6.74890820e+01,  1.37143058e+00,  1.59296199e-04]),\n",
       " array([ 2.16626949e-01,  4.12865360e-01,  3.60464770e-02,  1.06410619e-01,\n",
       "        -7.17391590e+01,  1.38718534e+00,  1.60796377e-04]),\n",
       " array([ 2.11540077e-01,  4.49324847e-01,  2.66888130e-02,  1.10525206e-01,\n",
       "        -7.49547503e+01,  1.39909566e+00,  1.61930916e-04]),\n",
       " array([ 2.07695846e-01,  4.76888590e-01,  1.96100521e-02,  1.13635592e-01,\n",
       "        -7.73867937e+01,  1.40811095e+00,  1.62789364e-04]),\n",
       " array([ 2.04787824e-01,  4.97739567e-01,  1.42552249e-02,  1.15988487e-01,\n",
       "        -7.92265464e+01,  1.41493070e+00,  1.63438749e-04]),\n",
       " array([ 2.02585408e-01,  5.13522640e-01,  1.02052773e-02,  1.17769739e-01,\n",
       "        -8.06184215e+01,  1.42008468e+00,  1.63929767e-04]),\n",
       " array([ 2.00921328e-01,  5.25454305e-01,  7.14107482e-03,  1.19116150e-01,\n",
       "        -8.16711915e+01,  1.42398715e+00,  1.64301366e-04]),\n",
       " array([ 1.99662512e-01,  5.34480172e-01,  4.82311802e-03,  1.20134661e-01,\n",
       "        -8.24675733e+01,  1.42693922e+00,  1.64582467e-04]),\n",
       " array([ 1.98709033e-01,  5.41311849e-01,  3.07054097e-03,  1.20905711e-01,\n",
       "        -8.30700033e+01,  1.42916932e+00,  1.64794958e-04]),\n",
       " array([ 1.97988693e-01,  5.46476771e-01,  1.74412761e-03,  1.21488540e-01,\n",
       "        -8.35257212e+01,  1.43085860e+00,  1.64955814e-04]),\n",
       " array([ 1.97443782e-01,  5.50383845e-01,  7.40744547e-04,  1.21929428e-01,\n",
       "        -8.38704550e+01,  1.43213647e+00,  1.65077495e-04]),\n",
       " array([ 1.97030881e-01,  5.53331047e-01,  0.00000000e+00,  1.22261498e-01,\n",
       "        -8.41307476e+01,  1.43311304e+00,  1.65168940e-04]),\n",
       " array([ 1.96716304e-01,  5.55511760e-01, -4.62890960e-04,  1.22503873e-01,\n",
       "        -8.43248069e+01,  1.43390583e+00,  1.65234935e-04]),\n",
       " array([ 1.96481202e-01,  5.57218349e-01, -9.28532304e-04,  1.22697494e-01,\n",
       "        -8.44748994e+01,  1.43444114e+00,  1.65288612e-04]),\n",
       " array([ 1.96303295e-01,  5.58509699e-01, -1.28083923e-03,  1.22844004e-01,\n",
       "        -8.45884570e+01,  1.43484609e+00,  1.65329220e-04]),\n",
       " array([ 1.96168737e-01,  5.59486422e-01, -1.54732416e-03,  1.22954819e-01,\n",
       "        -8.46743529e+01,  1.43515242e+00,  1.65359938e-04]),\n",
       " array([ 1.96066770e-01,  5.60225125e-01, -1.74833895e-03,  1.23038673e-01,\n",
       "        -8.47392551e+01,  1.43538307e+00,  1.65383109e-04]),\n",
       " array([ 1.95989751e-01,  5.60784159e-01, -1.90085036e-03,  1.23102099e-01,\n",
       "        -8.47884134e+01,  1.43555836e+00,  1.65400688e-04])]"
      ]
     },
     "execution_count": 137,
     "metadata": {},
     "output_type": "execute_result"
    }
   ],
   "source": [
    "lasso = Lasso()\n",
    "lambdas = 10 ** np.linspace(10, -2, 100) * 0.5\n",
    "katsayilar = []\n",
    "\n",
    "for i in lambdas:\n",
    "    lasso.set_params(alpha = i)\n",
    "    lasso.fit(X_train, y_train)\n",
    "    katsayilar.append(lasso.coef_)\n",
    "katsayilar"
   ]
  },
  {
   "cell_type": "code",
   "execution_count": 139,
   "id": "0142acb3",
   "metadata": {},
   "outputs": [
    {
     "data": {
      "image/png": "[encoded data removed]",
      "text/plain": [
       "<Figure size 432x288 with 1 Axes>"
      ]
     },
     "metadata": {
      "needs_background": "light"
     },
     "output_type": "display_data"
    }
   ],
   "source": [
    "px = plt.gca()\n",
    "px.plot(lambdas * 2, katsayilar)\n",
    "px.set_xscale('log')\n",
    "plt.axis(\"tight\")\n",
    "plt.xlabel(\"alpha\")\n",
    "plt.ylabel(\"weights\")\n",
    "plt.show()"
   ]
  },
  {
   "cell_type": "markdown",
   "id": "8a206b36",
   "metadata": {},
   "source": [
    "### Lasso'nun Ridge'den farkı değerlerin gerçekten sıfır olduğu ile alakası. Oluşturduğumuz grafik vasıtasıyla söylenbilir ki belli bir kısmının değer aldığını fakat diğer kısımların sıfır olduğunu gözlemliyoruz.\n",
    "\n",
    "### Lasso Regresyon Tahmin Yapısı:"
   ]
  },
  {
   "cell_type": "code",
   "execution_count": 140,
   "id": "c5f46214",
   "metadata": {},
   "outputs": [
    {
     "data": {
      "text/plain": [
       "77.3162135157733"
      ]
     },
     "execution_count": 140,
     "metadata": {},
     "output_type": "execute_result"
    }
   ],
   "source": [
    "y_pred = lasso_model.predict(X_test)\n",
    "np.sqrt(mean_squared_error(y_test, y_pred))"
   ]
  },
  {
   "cell_type": "markdown",
   "id": "24557306",
   "metadata": {},
   "source": [
    "### Lasso Regresyon: Model Tunning Yapısı"
   ]
  },
  {
   "cell_type": "code",
   "execution_count": 141,
   "id": "3571ddee",
   "metadata": {},
   "outputs": [
    {
     "data": {
      "text/plain": [
       "0.00222437521216984"
      ]
     },
     "execution_count": 141,
     "metadata": {},
     "output_type": "execute_result"
    }
   ],
   "source": [
    "from sklearn.linear_model import LassoCV\n",
    "lasso_cv_model = LassoCV(alphas = None, cv = 10, max_iter = 10000, normalize = True)\n",
    "las = lasso_cv_model.fit(X_train, y_train)\n",
    "las.alpha_"
   ]
  },
  {
   "cell_type": "markdown",
   "id": "760a5911",
   "metadata": {},
   "source": [
    "### Bu modellerin içindeki değişkenlerin hepsi 'hiperparametre' olarak adlandırılıyor. Kullanıcının değişikliği ile şekillenebilecek yapılar. Yani oynamalar yapıp daha farklı sonuçlara ulaşabiliriz.."
   ]
  },
  {
   "cell_type": "code",
   "execution_count": 142,
   "id": "0df5ac4d",
   "metadata": {},
   "outputs": [
    {
     "data": {
      "text/plain": [
       "77.30714251973986"
      ]
     },
     "execution_count": 142,
     "metadata": {},
     "output_type": "execute_result"
    }
   ],
   "source": [
    "lasso_tuned = Lasso(alpha = las.alpha_).fit(X_train, y_train)\n",
    "y_pred = lasso_tuned.predict(X_test)\n",
    "np.sqrt(mean_squared_error(y_test, y_pred))"
   ]
  },
  {
   "cell_type": "markdown",
   "id": "db79f2c9",
   "metadata": {},
   "source": [
    "### Sonuç olarak üç farklı model denedik. Bunlar 'Çoklu Doğrusal Regresyon', 'Lasso Regresyon' ve 'Ridge Regresyon'. Her birinde benzer işler yapsakta farklı sonuçlar elde ettik. Şöyle her birinin model tune değerine baktığımızda; çoklu doğrusal: 76.813, lasso: 77.307 ve ridge: 77.291 gibi birbirine çok yakın fakat farklı sonuçlar üretmiş. Burada daha fazla model daha kullanabiliriz, en iyi sonucu elde etmek için. Fakat şimdilik bu üç regresyon modeli ile sonlandırayım. Yeri gelince güncellemeye devam ederim burayı."
   ]
  },
  {
   "cell_type": "code",
   "execution_count": null,
   "id": "fa921e9f",
   "metadata": {},
   "outputs": [],
   "source": []
  }
 ],
 "metadata": {
  "kernelspec": {
   "display_name": "Python 3 (ipykernel)",
   "language": "python",
   "name": "python3"
  },
  "language_info": {
   "codemirror_mode": {
    "name": "ipython",
    "version": 3
   },
   "file_extension": ".py",
   "mimetype": "text/x-python",
   "name": "python",
   "nbconvert_exporter": "python",
   "pygments_lexer": "ipython3",
   "version": "3.9.12"
  }
 },
 "nbformat": 4,
 "nbformat_minor": 5
}
